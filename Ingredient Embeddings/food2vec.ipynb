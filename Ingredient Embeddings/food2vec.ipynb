{
 "cells": [
  {
   "cell_type": "markdown",
   "id": "fcada5d0-829e-4773-9089-30ec2fbede0f",
   "metadata": {},
   "source": [
    "This work is inspired by https://github.com/altosaar/food2vec"
   ]
  },
  {
   "cell_type": "code",
   "execution_count": 1,
   "id": "9a9ffccc-de42-4cb1-a8c6-7ce9242533b1",
   "metadata": {},
   "outputs": [],
   "source": [
    "from pathlib import Path\n",
    "import fasttext"
   ]
  },
  {
   "cell_type": "markdown",
   "id": "bdc8ced5-7157-42c5-8f24-84b77dc36af2",
   "metadata": {},
   "source": [
    "## Combine all available text corpus in recipe_corpus directory"
   ]
  },
  {
   "cell_type": "code",
   "execution_count": 2,
   "id": "bd93a734-e70c-4b0c-ac8c-61b2c7d028a2",
   "metadata": {},
   "outputs": [],
   "source": [
    "source_dir = Path(\"./recipe_corpus\")\n",
    "all_text_corpus = [file for file in source_dir.iterdir() if file.suffix == \".txt\"]"
   ]
  },
  {
   "cell_type": "code",
   "execution_count": 3,
   "id": "ad70e51e-1769-4697-9976-beeedb1915db",
   "metadata": {},
   "outputs": [],
   "source": [
    "with open(\"./food2vec_train.txt\",\"w\") as file :\n",
    "    pass"
   ]
  },
  {
   "cell_type": "code",
   "execution_count": 4,
   "id": "e498e2f9-9025-43e4-84d1-03b240278d1d",
   "metadata": {},
   "outputs": [],
   "source": [
    "for corpus in all_text_corpus :\n",
    "    source = None\n",
    "    with open(corpus,\"r\") as file :\n",
    "        source = file.read()\n",
    "    with open(\"./food2vec_train.txt\",\"a\") as file:\n",
    "        file.write(source)"
   ]
  },
  {
   "cell_type": "markdown",
   "id": "c727912a-45ad-44a2-9f9d-10e74b9db31c",
   "metadata": {},
   "source": [
    "## Train food2vec model"
   ]
  },
  {
   "cell_type": "code",
   "execution_count": 2,
   "id": "d74c7f22-718a-414b-b074-09ac7c457387",
   "metadata": {},
   "outputs": [],
   "source": [
    "model = fasttext.train_unsupervised(\"./food2vec_train.txt\", \"cbow\", lr=0.025)"
   ]
  },
  {
   "cell_type": "code",
   "execution_count": 3,
   "id": "781f14de-3718-4450-9d1f-713988f7ae9e",
   "metadata": {},
   "outputs": [
    {
     "data": {
      "text/plain": [
       "[(0.8673189878463745, 'breadcrumb'),\n",
       " (0.8567856550216675, 'sourdough_loaf'),\n",
       " (0.8488656282424927, 'flatbread'),\n",
       " (0.835652768611908, 'brea'),\n",
       " (0.8351161479949951, 'breadstick'),\n",
       " (0.8249607086181641, 'crustless'),\n",
       " (0.8237299919128418, 'breadcrumbs'),\n",
       " (0.8113250136375427, 'sourdough'),\n",
       " (0.8074899911880493, 'breaded'),\n",
       " (0.8048142790794373, 'bream')]"
      ]
     },
     "execution_count": 3,
     "metadata": {},
     "output_type": "execute_result"
    }
   ],
   "source": [
    "model.get_nearest_neighbors(\"bread\")"
   ]
  },
  {
   "cell_type": "markdown",
   "id": "5da41a0f-038c-4fcb-8ad0-edcf63f259ef",
   "metadata": {},
   "source": [
    "## Save food2vec model and vector"
   ]
  },
  {
   "cell_type": "code",
   "execution_count": 4,
   "id": "ba6f02ea-ee86-480b-b365-f79a059cc460",
   "metadata": {},
   "outputs": [],
   "source": [
    "model.save_model(\"./food2vec_model.bin\")"
   ]
  }
 ],
 "metadata": {
  "kernelspec": {
   "display_name": "PY38-TF28-GPU",
   "language": "python",
   "name": "py38-tf28-gpu"
  },
  "language_info": {
   "codemirror_mode": {
    "name": "ipython",
    "version": 3
   },
   "file_extension": ".py",
   "mimetype": "text/x-python",
   "name": "python",
   "nbconvert_exporter": "python",
   "pygments_lexer": "ipython3",
   "version": "3.8.13"
  }
 },
 "nbformat": 4,
 "nbformat_minor": 5
}
