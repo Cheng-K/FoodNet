{
 "cells": [
  {
   "cell_type": "code",
   "execution_count": 36,
   "id": "de8dc810-63eb-4348-b4f3-078f4b2e50f6",
   "metadata": {},
   "outputs": [],
   "source": [
    "from pathlib import Path\n",
    "\n",
    "import pandas as pd\n",
    "import tensorflow as tf\n",
    "from PIL import Image\n",
    "from tensorflow import keras"
   ]
  },
  {
   "cell_type": "code",
   "execution_count": 22,
   "id": "1c07ce4e-f954-4ac6-ba9e-d282fead4312",
   "metadata": {},
   "outputs": [],
   "source": [
    "# Load data\n",
    "dataset_dir = Path(\"../Food Datasets/final-dataset\")\n",
    "\n",
    "\n",
    "def load_recipe5k():\n",
    "    dataset_dir = Path(\"../Food Datasets/final-dataset\")"
   ]
  },
  {
   "cell_type": "code",
   "execution_count": null,
   "id": "e271ed68-0846-45cc-ae2b-14cb7134d6a1",
   "metadata": {},
   "outputs": [],
   "source": [
    "# Build model\n",
    "# def build_model () :"
   ]
  },
  {
   "cell_type": "code",
   "execution_count": 40,
   "id": "48c15774-3338-4d46-80c3-57a46d5e44b8",
   "metadata": {},
   "outputs": [],
   "source": [
    "dataset = tf.data.Dataset.from_tensors(([1, 2, 3], \"A\", [\"onion\", \"green leaves\"]))"
   ]
  },
  {
   "cell_type": "code",
   "execution_count": 45,
   "id": "b246b788-e4cb-4d40-8e25-7c34963f9ffe",
   "metadata": {},
   "outputs": [
    {
     "data": {
      "text/plain": [
       "(TensorSpec(shape=(3,), dtype=tf.int32, name=None),\n",
       " TensorSpec(shape=(), dtype=tf.string, name=None),\n",
       " TensorSpec(shape=(2,), dtype=tf.string, name=None))"
      ]
     },
     "execution_count": 45,
     "metadata": {},
     "output_type": "execute_result"
    }
   ],
   "source": [
    "dataset.element_spec"
   ]
  },
  {
   "cell_type": "code",
   "execution_count": 42,
   "id": "f68b30d1-bebd-4c90-955d-dccf2b8b738f",
   "metadata": {},
   "outputs": [
    {
     "data": {
      "text/plain": [
       "[(array([1, 2, 3]), b'A', array([b'onion', b'green leaves'], dtype=object))]"
      ]
     },
     "execution_count": 42,
     "metadata": {},
     "output_type": "execute_result"
    }
   ],
   "source": [
    "list(dataset.as_numpy_iterator())"
   ]
  },
  {
   "cell_type": "code",
   "execution_count": 20,
   "id": "b6a97ee0-d9a2-4e68-b076-c7ef74ce3f04",
   "metadata": {},
   "outputs": [
    {
     "name": "stdout",
     "output_type": "stream",
     "text": [
      "tf.Tensor([1 2 3], shape=(3,), dtype=int32)\n",
      "A\n",
      "tf.Tensor([b'onion' b'green leaves'], shape=(2,), dtype=string)\n"
     ]
    }
   ],
   "source": [
    "for x, y, z in dataset:\n",
    "    print(x)\n",
    "    print(y.numpy().decode(\"UTF-8\"))\n",
    "    print(z)"
   ]
  },
  {
   "cell_type": "code",
   "execution_count": 37,
   "id": "9f876af8-e890-447a-8d1c-3f07969052ba",
   "metadata": {},
   "outputs": [],
   "source": [
    "def load_image_to_arr(path):\n",
    "    image = tf.keras.preprocessing.image.load_img(path)\n",
    "    return tf.keras.preprocessing.image.img_to_array(image)\n",
    "\n",
    "\n",
    "def normalize_image(img_tensor):\n",
    "    return img_tensor / img_tensor.max()\n",
    "\n",
    "\n",
    "def load_recipe5k_metadata():\n",
    "    directory = Path(\"../Food Datasets/final-dataset/metadata/recipes5k_metadata.csv\")\n",
    "    return pd.read_csv(directory, sep=\"\\t\")"
   ]
  },
  {
   "cell_type": "code",
   "execution_count": 58,
   "id": "09725b24-85d1-4ecb-9b34-3894255a1c97",
   "metadata": {},
   "outputs": [],
   "source": [
    "class OneHotEncoder:\n",
    "    def __init__(self, all_category_list, all_ingredient_list):\n",
    "        self.all_food_categories = all_category_list\n",
    "        self.all_food_categories.sort()\n",
    "        self.all_food_categories_integer_encoded = (\n",
    "            self.__encode_categories_to_integers()\n",
    "        )\n",
    "        self.all_ingredients = all_ingredient_list\n",
    "        self.all_ingredients.sort()\n",
    "        self.all_ingredients_integer_encoded = self.__encode_ingredients_to_integers()\n",
    "\n",
    "    def get_category_one_hot_encoding(self, category_name):\n",
    "        index = self.all_food_categories_integer_encoded[category_name]\n",
    "        assert index != None, f\"{category_name} does not have an integer mapping\"\n",
    "        num_classes = len(self.all_food_categories)\n",
    "        return keras.utils.to_categorical([index], num_classes)\n",
    "\n",
    "    def get_ingredients_one_hot_encoding(self, ingredient_list):\n",
    "        ingredient_list = list(\n",
    "            map(lambda x: self.__transform_ingredient_to_integer, ingredient_list)\n",
    "        )\n",
    "        multi_one_hot_layer = tf.keras.layers.CategoryEncoding(\n",
    "            num_tokens=len(self.all_ingredients), output_mode=\"multi_hot\"\n",
    "        )\n",
    "        return multi_one_hot_layer([ingredient_list])\n",
    "\n",
    "    def __transform_ingredient_to_integer(self, ingredient_name):\n",
    "        index = self.all_ingredients_integer_encoded[ingredient_name]\n",
    "        assert index != None, f\"{ingredient_name} does not have an integer mapping\"\n",
    "        return index\n",
    "\n",
    "    def __encode_categories_to_integers(self):\n",
    "        return {\n",
    "            category_name: index\n",
    "            for index, category_name in enumerate(self.all_food_categories)\n",
    "        }\n",
    "\n",
    "    def __encode_ingredients_to_integers(self):\n",
    "        return {\n",
    "            ingredient_name: index\n",
    "            for index, ingredient_name in enumerate(self.all_ingredients)\n",
    "        }"
   ]
  },
  {
   "cell_type": "code",
   "execution_count": 28,
   "id": "2cd6c4b7-a52a-4535-a8d6-b4a3c56a61ad",
   "metadata": {},
   "outputs": [],
   "source": [
    "img_arr = load_image_to_arr(\n",
    "    dataset_dir / \"images\" / \"apple_pie\" / \"114542501848791040941317630876042494434.jpg\"\n",
    ")"
   ]
  },
  {
   "cell_type": "code",
   "execution_count": 31,
   "id": "89f18b12-9bd6-4317-b884-b99c043cea83",
   "metadata": {},
   "outputs": [
    {
     "data": {
      "text/plain": [
       "(240, 360, 3)"
      ]
     },
     "execution_count": 31,
     "metadata": {},
     "output_type": "execute_result"
    }
   ],
   "source": [
    "img_arr.shape"
   ]
  },
  {
   "cell_type": "code",
   "execution_count": 32,
   "id": "dd7090e7-803d-443a-9e88-63fd28a735bf",
   "metadata": {},
   "outputs": [
    {
     "data": {
      "text/plain": [
       "255.0"
      ]
     },
     "execution_count": 32,
     "metadata": {},
     "output_type": "execute_result"
    }
   ],
   "source": [
    "img_arr.max()"
   ]
  },
  {
   "cell_type": "code",
   "execution_count": 33,
   "id": "14cb6d95-d791-41bc-a6d3-1c5c347cd828",
   "metadata": {},
   "outputs": [
    {
     "data": {
      "text/plain": [
       "0.0"
      ]
     },
     "execution_count": 33,
     "metadata": {},
     "output_type": "execute_result"
    }
   ],
   "source": [
    "img_arr.min()"
   ]
  },
  {
   "cell_type": "code",
   "execution_count": 35,
   "id": "17f00d62-031f-4647-905a-f9bf115970a4",
   "metadata": {},
   "outputs": [
    {
     "data": {
      "text/plain": [
       "array([[[0.7529412 , 0.77254903, 0.7490196 ],\n",
       "        [0.7529412 , 0.77254903, 0.7490196 ],\n",
       "        [0.75686276, 0.7764706 , 0.7529412 ],\n",
       "        ...,\n",
       "        [0.41568628, 0.2       , 0.17254902],\n",
       "        [0.39607844, 0.19607843, 0.18039216],\n",
       "        [0.3764706 , 0.18431373, 0.16862746]],\n",
       "\n",
       "       [[0.7490196 , 0.76862746, 0.74509805],\n",
       "        [0.7529412 , 0.77254903, 0.7490196 ],\n",
       "        [0.7529412 , 0.77254903, 0.7490196 ],\n",
       "        ...,\n",
       "        [0.42352942, 0.21568628, 0.19215687],\n",
       "        [0.40392157, 0.21176471, 0.19215687],\n",
       "        [0.37254903, 0.19607843, 0.18431373]],\n",
       "\n",
       "       [[0.7411765 , 0.7607843 , 0.7372549 ],\n",
       "        [0.74509805, 0.7647059 , 0.7411765 ],\n",
       "        [0.74509805, 0.7647059 , 0.7411765 ],\n",
       "        ...,\n",
       "        [0.40784314, 0.21568628, 0.1882353 ],\n",
       "        [0.3882353 , 0.21176471, 0.19215687],\n",
       "        [0.36862746, 0.19607843, 0.18431373]],\n",
       "\n",
       "       ...,\n",
       "\n",
       "       [[0.7411765 , 0.63529414, 0.4509804 ],\n",
       "        [0.70980394, 0.6       , 0.4117647 ],\n",
       "        [0.6745098 , 0.5686275 , 0.3529412 ],\n",
       "        ...,\n",
       "        [0.9843137 , 1.        , 0.99607843],\n",
       "        [0.98039216, 0.99607843, 0.99215686],\n",
       "        [0.98039216, 0.99607843, 1.        ]],\n",
       "\n",
       "       [[0.75686276, 0.6745098 , 0.46666667],\n",
       "        [0.7019608 , 0.6117647 , 0.40784314],\n",
       "        [0.69411767, 0.59607846, 0.38431373],\n",
       "        ...,\n",
       "        [0.9843137 , 1.        , 0.9882353 ],\n",
       "        [0.9843137 , 1.        , 0.99607843],\n",
       "        [0.9882353 , 1.        , 1.        ]],\n",
       "\n",
       "       [[0.7529412 , 0.6784314 , 0.45882353],\n",
       "        [0.7372549 , 0.654902  , 0.4392157 ],\n",
       "        [0.75686276, 0.6745098 , 0.46666667],\n",
       "        ...,\n",
       "        [0.9843137 , 1.        , 0.9882353 ],\n",
       "        [0.9882353 , 1.        , 0.99215686],\n",
       "        [0.9882353 , 1.        , 1.        ]]], dtype=float32)"
      ]
     },
     "execution_count": 35,
     "metadata": {},
     "output_type": "execute_result"
    }
   ],
   "source": [
    "normalize_image(img_arr)"
   ]
  },
  {
   "cell_type": "code",
   "execution_count": 39,
   "id": "28222fc8-4370-4c36-92c2-0e3b2da0ca29",
   "metadata": {},
   "outputs": [
    {
     "data": {
      "text/html": [
       "<div>\n",
       "<style scoped>\n",
       "    .dataframe tbody tr th:only-of-type {\n",
       "        vertical-align: middle;\n",
       "    }\n",
       "\n",
       "    .dataframe tbody tr th {\n",
       "        vertical-align: top;\n",
       "    }\n",
       "\n",
       "    .dataframe thead th {\n",
       "        text-align: right;\n",
       "    }\n",
       "</style>\n",
       "<table border=\"1\" class=\"dataframe\">\n",
       "  <thead>\n",
       "    <tr style=\"text-align: right;\">\n",
       "      <th></th>\n",
       "      <th>ID/File Name</th>\n",
       "      <th>Category</th>\n",
       "      <th>Calorie(kcal)</th>\n",
       "      <th>Carbohydrate(g)</th>\n",
       "      <th>Protein(g)</th>\n",
       "      <th>Fat(g)</th>\n",
       "      <th>Ingredients</th>\n",
       "    </tr>\n",
       "  </thead>\n",
       "  <tbody>\n",
       "    <tr>\n",
       "      <th>0</th>\n",
       "      <td>211103814294563038966243131439696432980</td>\n",
       "      <td>apple_pie</td>\n",
       "      <td>3.4393</td>\n",
       "      <td>0.2716</td>\n",
       "      <td>0.0161</td>\n",
       "      <td>0.2603</td>\n",
       "      <td>flour,salt,oil,water,apple,sugar,cinnamon,butter</td>\n",
       "    </tr>\n",
       "    <tr>\n",
       "      <th>1</th>\n",
       "      <td>263538410746730869383121236069019641366</td>\n",
       "      <td>apple_pie</td>\n",
       "      <td>2.8444</td>\n",
       "      <td>0.3591</td>\n",
       "      <td>0.0293</td>\n",
       "      <td>0.1501</td>\n",
       "      <td>shells,pie,sugar,flour,cinnamon,apple,lemon,bu...</td>\n",
       "    </tr>\n",
       "    <tr>\n",
       "      <th>2</th>\n",
       "      <td>328597835729663550995342992726274622904</td>\n",
       "      <td>apple_pie</td>\n",
       "      <td>3.2812</td>\n",
       "      <td>0.2658</td>\n",
       "      <td>0.0369</td>\n",
       "      <td>0.2419</td>\n",
       "      <td>apple,lemon,sugar,flour,cinnamon,nut,butter,sa...</td>\n",
       "    </tr>\n",
       "    <tr>\n",
       "      <th>3</th>\n",
       "      <td>192812446104799022112212906789347819248</td>\n",
       "      <td>apple_pie</td>\n",
       "      <td>2.6394</td>\n",
       "      <td>0.3287</td>\n",
       "      <td>0.0245</td>\n",
       "      <td>0.1409</td>\n",
       "      <td>pie,apple,sugar,corn starch,cinnamon,lemon,but...</td>\n",
       "    </tr>\n",
       "    <tr>\n",
       "      <th>4</th>\n",
       "      <td>191920265948634303435638687483707715644</td>\n",
       "      <td>apple_pie</td>\n",
       "      <td>3.6433</td>\n",
       "      <td>0.3161</td>\n",
       "      <td>0.0464</td>\n",
       "      <td>0.2601</td>\n",
       "      <td>apple,brown sugar,butter,cinnamon,pepper,nut,pie</td>\n",
       "    </tr>\n",
       "    <tr>\n",
       "      <th>...</th>\n",
       "      <td>...</td>\n",
       "      <td>...</td>\n",
       "      <td>...</td>\n",
       "      <td>...</td>\n",
       "      <td>...</td>\n",
       "      <td>...</td>\n",
       "      <td>...</td>\n",
       "    </tr>\n",
       "    <tr>\n",
       "      <th>4821</th>\n",
       "      <td>272335832857708526395823635239664283537</td>\n",
       "      <td>chocolate_ice_cream</td>\n",
       "      <td>2.2738</td>\n",
       "      <td>0.3737</td>\n",
       "      <td>0.0678</td>\n",
       "      <td>0.0955</td>\n",
       "      <td>sugar,milk,salt,cocoa,egg,chocolate,vanilla</td>\n",
       "    </tr>\n",
       "    <tr>\n",
       "      <th>4822</th>\n",
       "      <td>192293563052674149150721111048588276110</td>\n",
       "      <td>chocolate_ice_cream</td>\n",
       "      <td>2.2090</td>\n",
       "      <td>0.5410</td>\n",
       "      <td>0.0777</td>\n",
       "      <td>0.0513</td>\n",
       "      <td>milk,sugar,cocoa,vanilla</td>\n",
       "    </tr>\n",
       "    <tr>\n",
       "      <th>4823</th>\n",
       "      <td>132004208048933661182440986468119687667</td>\n",
       "      <td>chocolate_ice_cream</td>\n",
       "      <td>2.8330</td>\n",
       "      <td>0.5621</td>\n",
       "      <td>0.0992</td>\n",
       "      <td>0.0802</td>\n",
       "      <td>cocoa,egg,sugar,vanilla,oreo cookies</td>\n",
       "    </tr>\n",
       "    <tr>\n",
       "      <th>4824</th>\n",
       "      <td>35227362469635070879297823378326562678</td>\n",
       "      <td>chocolate_ice_cream</td>\n",
       "      <td>1.9474</td>\n",
       "      <td>0.3294</td>\n",
       "      <td>0.0966</td>\n",
       "      <td>0.0728</td>\n",
       "      <td>sugar,egg,egg,cocoa,milk,vanilla</td>\n",
       "    </tr>\n",
       "    <tr>\n",
       "      <th>4825</th>\n",
       "      <td>1511215623648543128334629676262513621</td>\n",
       "      <td>chocolate_ice_cream</td>\n",
       "      <td>2.4176</td>\n",
       "      <td>0.4460</td>\n",
       "      <td>0.0564</td>\n",
       "      <td>0.0936</td>\n",
       "      <td>cocoa,sugar,salt,chocolate,milk,vanilla</td>\n",
       "    </tr>\n",
       "  </tbody>\n",
       "</table>\n",
       "<p>4826 rows × 7 columns</p>\n",
       "</div>"
      ],
      "text/plain": [
       "                                 ID/File Name             Category  \\\n",
       "0     211103814294563038966243131439696432980            apple_pie   \n",
       "1     263538410746730869383121236069019641366            apple_pie   \n",
       "2     328597835729663550995342992726274622904            apple_pie   \n",
       "3     192812446104799022112212906789347819248            apple_pie   \n",
       "4     191920265948634303435638687483707715644            apple_pie   \n",
       "...                                       ...                  ...   \n",
       "4821  272335832857708526395823635239664283537  chocolate_ice_cream   \n",
       "4822  192293563052674149150721111048588276110  chocolate_ice_cream   \n",
       "4823  132004208048933661182440986468119687667  chocolate_ice_cream   \n",
       "4824   35227362469635070879297823378326562678  chocolate_ice_cream   \n",
       "4825    1511215623648543128334629676262513621  chocolate_ice_cream   \n",
       "\n",
       "      Calorie(kcal)  Carbohydrate(g)  Protein(g)  Fat(g)  \\\n",
       "0            3.4393           0.2716      0.0161  0.2603   \n",
       "1            2.8444           0.3591      0.0293  0.1501   \n",
       "2            3.2812           0.2658      0.0369  0.2419   \n",
       "3            2.6394           0.3287      0.0245  0.1409   \n",
       "4            3.6433           0.3161      0.0464  0.2601   \n",
       "...             ...              ...         ...     ...   \n",
       "4821         2.2738           0.3737      0.0678  0.0955   \n",
       "4822         2.2090           0.5410      0.0777  0.0513   \n",
       "4823         2.8330           0.5621      0.0992  0.0802   \n",
       "4824         1.9474           0.3294      0.0966  0.0728   \n",
       "4825         2.4176           0.4460      0.0564  0.0936   \n",
       "\n",
       "                                            Ingredients  \n",
       "0      flour,salt,oil,water,apple,sugar,cinnamon,butter  \n",
       "1     shells,pie,sugar,flour,cinnamon,apple,lemon,bu...  \n",
       "2     apple,lemon,sugar,flour,cinnamon,nut,butter,sa...  \n",
       "3     pie,apple,sugar,corn starch,cinnamon,lemon,but...  \n",
       "4      apple,brown sugar,butter,cinnamon,pepper,nut,pie  \n",
       "...                                                 ...  \n",
       "4821        sugar,milk,salt,cocoa,egg,chocolate,vanilla  \n",
       "4822                           milk,sugar,cocoa,vanilla  \n",
       "4823               cocoa,egg,sugar,vanilla,oreo cookies  \n",
       "4824                   sugar,egg,egg,cocoa,milk,vanilla  \n",
       "4825            cocoa,sugar,salt,chocolate,milk,vanilla  \n",
       "\n",
       "[4826 rows x 7 columns]"
      ]
     },
     "execution_count": 39,
     "metadata": {},
     "output_type": "execute_result"
    }
   ],
   "source": [
    "load_recipe5k_metadata()"
   ]
  },
  {
   "cell_type": "code",
   "execution_count": 51,
   "id": "fbdb0b37-b9a6-468d-af10-d6c8d586cb62",
   "metadata": {},
   "outputs": [
    {
     "ename": "AssertionError",
     "evalue": "",
     "output_type": "error",
     "traceback": [
      "\u001b[1;31m---------------------------------------------------------------------------\u001b[0m",
      "\u001b[1;31mAssertionError\u001b[0m                            Traceback (most recent call last)",
      "Input \u001b[1;32mIn [51]\u001b[0m, in \u001b[0;36m<cell line: 1>\u001b[1;34m()\u001b[0m\n\u001b[1;32m----> 1\u001b[0m \u001b[38;5;28;01massert\u001b[39;00m \u001b[38;5;28;01mNone\u001b[39;00m \u001b[38;5;241m!=\u001b[39m \u001b[38;5;28;01mNone\u001b[39;00m\n",
      "\u001b[1;31mAssertionError\u001b[0m: "
     ]
    }
   ],
   "source": []
  },
  {
   "cell_type": "code",
   "execution_count": null,
   "id": "1ac060dd-2bd2-436d-95e0-cfca89279988",
   "metadata": {},
   "outputs": [],
   "source": []
  }
 ],
 "metadata": {
  "kernelspec": {
   "display_name": "TF2-GPU-PY310",
   "language": "python",
   "name": "tf2-gpu-py310"
  },
  "language_info": {
   "codemirror_mode": {
    "name": "ipython",
    "version": 3
   },
   "file_extension": ".py",
   "mimetype": "text/x-python",
   "name": "python",
   "nbconvert_exporter": "python",
   "pygments_lexer": "ipython3",
   "version": "3.10.4"
  }
 },
 "nbformat": 4,
 "nbformat_minor": 5
}
