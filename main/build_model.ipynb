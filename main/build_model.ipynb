{
 "cells": [
  {
   "cell_type": "markdown",
   "metadata": {},
   "source": [
    "**Author :  Ong Cheng Kei TP055620** <br>\n",
    "**Description :**\n",
    "<br>This file contains code to build the data pipeline and the multi-task models.<br>\n",
    "The output for each model training will produce a tensorboard log for that model stored in *./models* and a set of model files stored in *./temp/checkpoint*"
   ]
  },
  {
   "cell_type": "code",
   "execution_count": 5,
   "metadata": {
    "execution": {
     "iopub.execute_input": "2022-12-23T13:23:57.796699Z",
     "iopub.status.busy": "2022-12-23T13:23:57.796345Z",
     "iopub.status.idle": "2022-12-23T13:24:04.945811Z",
     "shell.execute_reply": "2022-12-23T13:24:04.944791Z",
     "shell.execute_reply.started": "2022-12-23T13:23:57.796667Z"
    }
   },
   "outputs": [],
   "source": [
    "import tensorflow as tf\n",
    "import tensorflow_datasets as tfds\n",
    "from ipynb.fs.defs.data_pipeline import EXPORTED as data_pipeline\n",
    "from tensorflow import keras"
   ]
  },
  {
   "cell_type": "markdown",
   "metadata": {
    "tags": []
   },
   "source": [
    "# Loading builders for datasets"
   ]
  },
  {
   "cell_type": "code",
   "execution_count": 6,
   "metadata": {
    "execution": {
     "iopub.execute_input": "2022-12-23T13:24:04.947419Z",
     "iopub.status.busy": "2022-12-23T13:24:04.947084Z",
     "iopub.status.idle": "2022-12-23T13:24:04.995818Z",
     "shell.execute_reply": "2022-12-23T13:24:04.994975Z",
     "shell.execute_reply.started": "2022-12-23T13:24:04.947387Z"
    }
   },
   "outputs": [],
   "source": [
    "RECIPES5K_DIR = \"../input/foodnet/tfrecord/recipes5k/1.0.0\"\n",
    "FOOD101_DIR = \"../input/foodnet/tfrecord/food101/1.1.0\"\n",
    "NUTRITION5K_DIR = \"../input/foodnet/tfrecord/nutrition5k/1.0.0\"\n",
    "\n",
    "\n",
    "recipes5k_food101_builder = tfds.builder_from_directories([RECIPES5K_DIR, FOOD101_DIR])\n",
    "nutrition5k_builder = tfds.builder_from_directory(NUTRITION5K_DIR)"
   ]
  },
  {
   "cell_type": "code",
   "execution_count": 7,
   "metadata": {
    "execution": {
     "iopub.execute_input": "2022-12-23T13:24:04.997370Z",
     "iopub.status.busy": "2022-12-23T13:24:04.997040Z",
     "iopub.status.idle": "2022-12-23T13:24:05.005622Z",
     "shell.execute_reply": "2022-12-23T13:24:05.004720Z",
     "shell.execute_reply.started": "2022-12-23T13:24:04.997334Z"
    }
   },
   "outputs": [
    {
     "data": {
      "text/plain": [
       "105826"
      ]
     },
     "execution_count": 7,
     "metadata": {},
     "output_type": "execute_result"
    }
   ],
   "source": [
    "recipes5k_food101_builder.info.splits[\"train\"].num_examples"
   ]
  },
  {
   "cell_type": "code",
   "execution_count": 8,
   "metadata": {
    "execution": {
     "iopub.execute_input": "2022-12-23T13:24:05.007745Z",
     "iopub.status.busy": "2022-12-23T13:24:05.007111Z",
     "iopub.status.idle": "2022-12-23T13:24:05.017023Z",
     "shell.execute_reply": "2022-12-23T13:24:05.015974Z",
     "shell.execute_reply.started": "2022-12-23T13:24:05.007693Z"
    }
   },
   "outputs": [
    {
     "data": {
      "text/plain": [
       "271407"
      ]
     },
     "execution_count": 8,
     "metadata": {},
     "output_type": "execute_result"
    }
   ],
   "source": [
    "nutrition5k_builder.info.splits[\"train\"].num_examples"
   ]
  },
  {
   "cell_type": "code",
   "execution_count": 9,
   "metadata": {
    "execution": {
     "iopub.execute_input": "2022-12-23T13:24:05.018976Z",
     "iopub.status.busy": "2022-12-23T13:24:05.018583Z",
     "iopub.status.idle": "2022-12-23T13:24:05.026928Z",
     "shell.execute_reply": "2022-12-23T13:24:05.025841Z",
     "shell.execute_reply.started": "2022-12-23T13:24:05.018935Z"
    }
   },
   "outputs": [],
   "source": [
    "def encode_category_ingredients(category_tensor, ingredients_tensor):\n",
    "    category = str(category_tensor.numpy(), \"utf-8\")\n",
    "    ingredients = str(ingredients_tensor.numpy(), \"utf-8\")\n",
    "    one_hot_category_tensor = (\n",
    "        data_pipeline.one_hot_encoder.get_category_one_hot_encoding(category)\n",
    "    )\n",
    "    one_hot_ingredients_tensor = (\n",
    "        data_pipeline.one_hot_encoder.get_ingredients_one_hot_encoding(\n",
    "            ingredients.split(\",\")\n",
    "        )\n",
    "    )\n",
    "    return (\n",
    "        tf.constant(one_hot_category_tensor, dtype=tf.uint8),\n",
    "        tf.constant(one_hot_ingredients_tensor, dtype=tf.uint8),\n",
    "    )"
   ]
  },
  {
   "cell_type": "code",
   "execution_count": 10,
   "metadata": {
    "execution": {
     "iopub.execute_input": "2022-12-23T13:24:05.031346Z",
     "iopub.status.busy": "2022-12-23T13:24:05.030755Z",
     "iopub.status.idle": "2022-12-23T13:24:05.037795Z",
     "shell.execute_reply": "2022-12-23T13:24:05.036870Z",
     "shell.execute_reply.started": "2022-12-23T13:24:05.031312Z"
    }
   },
   "outputs": [],
   "source": [
    "def parse_function(x):\n",
    "    encoded = tf.py_function(\n",
    "        encode_category_ingredients,\n",
    "        [x[\"category\"], x[\"ingredients\"]],\n",
    "        [tf.uint8, tf.uint8],\n",
    "    )\n",
    "    return x[\"image_raw\"], {\n",
    "        \"category_output\": encoded[0],\n",
    "        \"calorie_output\": x[\"calorie\"],\n",
    "        \"carbs_output\": x[\"carbs\"],\n",
    "        \"protein_output\": x[\"protein\"],\n",
    "        \"fat_output\": x[\"fat\"],\n",
    "        \"ingredients_output\": encoded[1],\n",
    "    }"
   ]
  },
  {
   "cell_type": "markdown",
   "metadata": {},
   "source": [
    "## Creating dataset for training ingredients and nutrients only"
   ]
  },
  {
   "cell_type": "code",
   "execution_count": 11,
   "metadata": {
    "execution": {
     "iopub.execute_input": "2022-12-23T13:24:05.040048Z",
     "iopub.status.busy": "2022-12-23T13:24:05.039693Z",
     "iopub.status.idle": "2022-12-23T13:24:08.217532Z",
     "shell.execute_reply": "2022-12-23T13:24:08.216593Z",
     "shell.execute_reply.started": "2022-12-23T13:24:05.040016Z"
    }
   },
   "outputs": [],
   "source": [
    "# FULL DATASET\n",
    "no_category_train, no_category_val = nutrition5k_builder.as_dataset(\n",
    "    split=[\"train[:80%]\", \"train[80%:]\"]\n",
    ")"
   ]
  },
  {
   "cell_type": "code",
   "execution_count": 12,
   "metadata": {
    "execution": {
     "iopub.execute_input": "2022-12-23T13:24:08.220184Z",
     "iopub.status.busy": "2022-12-23T13:24:08.219600Z",
     "iopub.status.idle": "2022-12-23T13:24:08.227504Z",
     "shell.execute_reply": "2022-12-23T13:24:08.226519Z",
     "shell.execute_reply.started": "2022-12-23T13:24:08.220148Z"
    }
   },
   "outputs": [
    {
     "name": "stdout",
     "output_type": "stream",
     "text": [
      "Total training size : 217126\n",
      "Total validation size : 54281\n"
     ]
    }
   ],
   "source": [
    "print(f\"Total training size : {no_category_train.cardinality().numpy()}\")\n",
    "print(f\"Total validation size : {no_category_val.cardinality().numpy()}\")"
   ]
  },
  {
   "cell_type": "code",
   "execution_count": 13,
   "metadata": {
    "execution": {
     "iopub.execute_input": "2022-12-23T13:24:08.230374Z",
     "iopub.status.busy": "2022-12-23T13:24:08.229674Z",
     "iopub.status.idle": "2022-12-23T13:24:08.311656Z",
     "shell.execute_reply": "2022-12-23T13:24:08.310793Z",
     "shell.execute_reply.started": "2022-12-23T13:24:08.230325Z"
    }
   },
   "outputs": [],
   "source": [
    "BATCH_SIZE = 256\n",
    "no_category_train = (\n",
    "    no_category_train.map(parse_function).batch(BATCH_SIZE).prefetch(tf.data.AUTOTUNE)\n",
    ")\n",
    "no_category_val = (\n",
    "    no_category_val.map(parse_function).batch(BATCH_SIZE).prefetch(tf.data.AUTOTUNE)\n",
    ")"
   ]
  },
  {
   "cell_type": "markdown",
   "metadata": {},
   "source": [
    "## Creating dataset for training category, ingredients and nutrients"
   ]
  },
  {
   "cell_type": "code",
   "execution_count": 14,
   "metadata": {
    "execution": {
     "iopub.execute_input": "2022-12-23T13:24:08.315120Z",
     "iopub.status.busy": "2022-12-23T13:24:08.314843Z",
     "iopub.status.idle": "2022-12-23T13:24:08.477230Z",
     "shell.execute_reply": "2022-12-23T13:24:08.476362Z",
     "shell.execute_reply.started": "2022-12-23T13:24:08.315095Z"
    }
   },
   "outputs": [],
   "source": [
    "# FULL DATASET\n",
    "(\n",
    "    recipes5k_food101_train,\n",
    "    recipes5k_food101_validation,\n",
    ") = recipes5k_food101_builder.as_dataset(split=[\"train[:80%]\", \"train[80%:]\"])\n",
    "\n",
    "# Introduce the generic category, to avoid a bias dataset, only 1k images (average image per category) is taken from nutrition5k dataset\n",
    "(nutrition5k_category_train, nutrition5k_category_val) = nutrition5k_builder.as_dataset(\n",
    "    split=[\"train[:800]\", \"train[800:1000]\"]\n",
    ")\n",
    "\n",
    "train_dataset = recipes5k_food101_train.concatenate(nutrition5k_category_train)\n",
    "validation_dataset = recipes5k_food101_validation.concatenate(nutrition5k_category_val)"
   ]
  },
  {
   "cell_type": "code",
   "execution_count": 15,
   "metadata": {
    "execution": {
     "iopub.execute_input": "2022-12-23T13:24:08.478937Z",
     "iopub.status.busy": "2022-12-23T13:24:08.478585Z",
     "iopub.status.idle": "2022-12-23T13:24:08.486508Z",
     "shell.execute_reply": "2022-12-23T13:24:08.485234Z",
     "shell.execute_reply.started": "2022-12-23T13:24:08.478898Z"
    }
   },
   "outputs": [
    {
     "name": "stdout",
     "output_type": "stream",
     "text": [
      "Total training size : 85461\n",
      "Total validation size : 21365\n"
     ]
    }
   ],
   "source": [
    "print(f\"Total training size : {train_dataset.cardinality().numpy()}\")\n",
    "print(f\"Total validation size : {validation_dataset.cardinality().numpy()}\")"
   ]
  },
  {
   "cell_type": "code",
   "execution_count": 16,
   "metadata": {
    "execution": {
     "iopub.execute_input": "2022-12-23T13:24:08.489224Z",
     "iopub.status.busy": "2022-12-23T13:24:08.488311Z",
     "iopub.status.idle": "2022-12-23T13:24:08.517951Z",
     "shell.execute_reply": "2022-12-23T13:24:08.516919Z",
     "shell.execute_reply.started": "2022-12-23T13:24:08.489186Z"
    }
   },
   "outputs": [],
   "source": [
    "BATCH_SIZE = 256\n",
    "train_dataset = (\n",
    "    train_dataset.map(parse_function).batch(BATCH_SIZE).prefetch(tf.data.AUTOTUNE)\n",
    ")\n",
    "validation_dataset = (\n",
    "    validation_dataset.map(parse_function).batch(BATCH_SIZE).prefetch(tf.data.AUTOTUNE)\n",
    ")"
   ]
  },
  {
   "cell_type": "markdown",
   "metadata": {
    "tags": []
   },
   "source": [
    "# Model Development"
   ]
  },
  {
   "cell_type": "code",
   "execution_count": null,
   "metadata": {
    "execution": {
     "iopub.execute_input": "2022-12-21T06:00:59.780742Z",
     "iopub.status.busy": "2022-12-21T06:00:59.780378Z",
     "iopub.status.idle": "2022-12-21T06:00:59.825575Z",
     "shell.execute_reply": "2022-12-21T06:00:59.824354Z",
     "shell.execute_reply.started": "2022-12-21T06:00:59.780712Z"
    },
    "tags": []
   },
   "outputs": [],
   "source": [
    "class BaseModel:\n",
    "    def __init__(\n",
    "        self,\n",
    "        input_shape,\n",
    "        total_food_category,\n",
    "        total_ingredients_category,\n",
    "        name,\n",
    "        model_config_name,\n",
    "    ):\n",
    "        self.input_shape = input_shape\n",
    "        self.total_food_category = total_food_category\n",
    "        self.total_ingredients_category = total_ingredients_category\n",
    "        self.model = None\n",
    "        self.name = name\n",
    "        self.model_config_name = model_config_name\n",
    "\n",
    "    def build(\n",
    "        self,\n",
    "        independent_category_units,\n",
    "        independent_ingredients_units,\n",
    "        independent_protein_units,\n",
    "        independent_calorie_units,\n",
    "        independent_carbs_units,\n",
    "        independent_fat_units,\n",
    "        shared_units,\n",
    "    ):\n",
    "        raise NotImplementedError\n",
    "\n",
    "    def compile_model(self, optimizer):\n",
    "        assert self.model is not None\n",
    "        category_classification_loss = keras.losses.CategoricalCrossentropy()\n",
    "        calorie_regression_loss = keras.losses.MeanAbsoluteError()\n",
    "        carbs_regression_loss = keras.losses.MeanAbsoluteError()\n",
    "        protein_regression_loss = keras.losses.MeanAbsoluteError()\n",
    "        fat_regression_loss = keras.losses.MeanAbsoluteError()\n",
    "        ingredient_multilabel_loss = keras.losses.BinaryCrossentropy()\n",
    "        category_classification_metrics = (\n",
    "            [\n",
    "                keras.metrics.CategoricalAccuracy(name=\"acc\"),\n",
    "                keras.metrics.Precision(name=\"precision\"),\n",
    "                keras.metrics.Recall(name=\"recall\"),\n",
    "            ],\n",
    "        )\n",
    "\n",
    "        calorie_regression_metrics = [keras.metrics.MeanAbsoluteError(name=\"MAE\")]\n",
    "        carbs_regression_metrics = [keras.metrics.MeanAbsoluteError(name=\"MAE\")]\n",
    "        protein_regression_metrics = [keras.metrics.MeanAbsoluteError(name=\"MAE\")]\n",
    "        fat_regression_metrics = [keras.metrics.MeanAbsoluteError(name=\"MAE\")]\n",
    "        ingredient_multilabel_metrics = (\n",
    "            [\n",
    "                keras.metrics.Precision(name=\"precision\"),\n",
    "                keras.metrics.Recall(name=\"recall\"),\n",
    "            ],\n",
    "        )\n",
    "        category_classification_loss_weights = 1.0\n",
    "        ingredient_multilabel_loss_weights = 1.0\n",
    "        calorie_regression_loss_weights = 1.0\n",
    "        carbs_regression_loss_weights = 1.0\n",
    "        protein_regression_loss_weights = 1.0\n",
    "        fat_regression_loss_weights = 1.0\n",
    "\n",
    "        self.model.compile(\n",
    "            optimizer=optimizer,\n",
    "            loss={\n",
    "                \"category_output\": category_classification_loss,\n",
    "                \"calorie_output\": calorie_regression_loss,\n",
    "                \"carbs_output\": carbs_regression_loss,\n",
    "                \"protein_output\": protein_regression_loss,\n",
    "                \"fat_output\": fat_regression_loss,\n",
    "                \"ingredients_output\": ingredient_multilabel_loss,\n",
    "            },\n",
    "            metrics={\n",
    "                \"category_output\": category_classification_metrics,\n",
    "                \"calorie_output\": calorie_regression_metrics,\n",
    "                \"carbs_output\": carbs_regression_metrics,\n",
    "                \"protein_output\": protein_regression_metrics,\n",
    "                \"fat_output\": fat_regression_metrics,\n",
    "                \"ingredients_output\": ingredient_multilabel_metrics,\n",
    "            },\n",
    "            loss_weights={\n",
    "                \"category_output\": category_classification_loss_weights,\n",
    "                \"calorie_output\": calorie_regression_loss_weights,\n",
    "                \"carbs_output\": carbs_regression_loss_weights,\n",
    "                \"protein_output\": protein_regression_loss_weights,\n",
    "                \"fat_output\": fat_regression_loss_weights,\n",
    "                \"ingredients_output\": ingredient_multilabel_loss_weights,\n",
    "            },\n",
    "        )\n",
    "\n",
    "    def freeze_category_classification_layers(self):\n",
    "        assert self.model is not None\n",
    "        submodel = self.model.get_layer(\"category_output\")\n",
    "        submodel.trainable = False\n",
    "\n",
    "    def freeze_convolution_base(self):\n",
    "        assert self.model is not None\n",
    "        submodel = self.model.get_layer(\"efficientnetB1\")\n",
    "        submodel.trainable = False\n",
    "\n",
    "    def get_callbacks(self):\n",
    "        tensorboard_dir = f\"./models/logs/{self.name}/{self.model_config_name}\"\n",
    "        checkpoint_dir = f\"./temp/checkpoint/{self.name}/{self.model_config_name}\"\n",
    "        checkpoint_model_path = checkpoint_dir + \"/model\"\n",
    "        checkpoint_weights_path = checkpoint_dir + \"/weights/ckpt\"\n",
    "        checkpoint_model_callback = keras.callbacks.ModelCheckpoint(\n",
    "            checkpoint_model_path, monitor=\"val_loss\", save_best_only=True, mode=\"min\"\n",
    "        )\n",
    "        checkpoint_weights_callback = keras.callbacks.ModelCheckpoint(\n",
    "            checkpoint_weights_path,\n",
    "            monitor=\"val_loss\",\n",
    "            save_best_only=True,\n",
    "            save_weights_only=True,\n",
    "            mode=\"min\",\n",
    "        )\n",
    "        reduce_lr_callback = keras.callbacks.ReduceLROnPlateau(\n",
    "            monitor=\"val_loss\", factor=0.5, patience=2, min_lr=1e-6, verbose=1\n",
    "        )\n",
    "        tensorboard_callback = keras.callbacks.TensorBoard(log_dir=tensorboard_dir)\n",
    "        early_stopping_callback = keras.callbacks.EarlyStopping(\"val_loss\", patience=8)\n",
    "        return [\n",
    "            tensorboard_callback,\n",
    "            early_stopping_callback,\n",
    "            checkpoint_model_callback,\n",
    "            checkpoint_weights_callback,\n",
    "            reduce_lr_callback,\n",
    "        ]\n",
    "\n",
    "    # Layers from bottom to top (classifier)  #\n",
    "    def get_input_layer(self):\n",
    "        return keras.Input(shape=self.input_shape)\n",
    "\n",
    "    def get_augmentation_layers(self):\n",
    "        input_layer = keras.layers.Input(shape=self.input_shape)\n",
    "        augmentation_layer = keras.layers.RandomFlip()(input_layer)\n",
    "        augmentation_layer = keras.layers.RandomRotation(0.2)(augmentation_layer)\n",
    "        return keras.Model(\n",
    "            inputs=input_layer, outputs=augmentation_layer, name=\"augmentation_layers\"\n",
    "        )\n",
    "\n",
    "    def get_preprocess_layers(self, input_tensor):\n",
    "        raise NotImplementedError\n",
    "\n",
    "    def get_convolution_block(self):\n",
    "        raise NotImplementedError\n",
    "\n",
    "    def get_shared_layers(self, input_tensor, *num_units):\n",
    "        input_layer = keras.layers.Input(shape=input_tensor.shape[1:])\n",
    "        shared_layer = keras.layers.Flatten()(input_layer)\n",
    "        shared_layer = keras.layers.Dense(\n",
    "            num_units[0], activation=\"relu\", name=\"shared_dense_1\"\n",
    "        )(shared_layer)\n",
    "        shared_layer = keras.layers.BatchNormalization()(shared_layer)\n",
    "        output_layer = keras.layers.Dropout(0.2)(shared_layer)\n",
    "        return keras.Model(\n",
    "            inputs=input_layer, outputs=output_layer, name=\"shared_layers\"\n",
    "        )\n",
    "\n",
    "    def get_category_classification_layers(\n",
    "        self, input_tensor, total_categories, *num_units\n",
    "    ):\n",
    "        input_layer = keras.layers.Input(shape=input_tensor.shape[1:])\n",
    "        x = keras.layers.Dense(\n",
    "            num_units[0], activation=\"relu\", name=\"category_dense_1\"\n",
    "        )(input_layer)\n",
    "        x = keras.layers.BatchNormalization()(x)\n",
    "        category_classification_layer = keras.layers.Dense(\n",
    "            total_categories, activation=\"softmax\", name=\"category_output_layer\"\n",
    "        )(x)\n",
    "        output_model = keras.Model(\n",
    "            inputs=input_layer,\n",
    "            outputs=category_classification_layer,\n",
    "            name=\"category_output\",\n",
    "        )\n",
    "        return output_model\n",
    "\n",
    "    def get_calorie_regression_layers(self, input_tensor, *num_units):\n",
    "        input_layer = keras.layers.Input(shape=input_tensor.shape[1:])\n",
    "        x = keras.layers.Dense(num_units[0], activation=\"relu\", name=\"calorie_dense_1\")(\n",
    "            input_layer\n",
    "        )\n",
    "        x = keras.layers.BatchNormalization()(x)\n",
    "        x = keras.layers.Dense(num_units[1], activation=\"relu\", name=\"calorie_dense_2\")(\n",
    "            x\n",
    "        )\n",
    "        x = keras.layers.BatchNormalization()(x)\n",
    "        calorie_regression_layers = keras.layers.Dense(1, name=\"calorie_output_layer\")(\n",
    "            x\n",
    "        )\n",
    "        return keras.Model(\n",
    "            inputs=input_layer, outputs=calorie_regression_layers, name=\"calorie_output\"\n",
    "        )\n",
    "\n",
    "    def get_carbs_regression_layers(self, input_tensor, *num_units):\n",
    "        input_layer = keras.layers.Input(shape=input_tensor.shape[1:])\n",
    "        x = keras.layers.Dense(num_units[0], activation=\"relu\", name=\"carbs_dense_1\")(\n",
    "            input_layer\n",
    "        )\n",
    "        x = keras.layers.BatchNormalization()(x)\n",
    "        x = keras.layers.Dense(num_units[1], activation=\"relu\", name=\"carbs_dense_2\")(x)\n",
    "        x = keras.layers.BatchNormalization()(x)\n",
    "        carbs_regression_layers = keras.layers.Dense(1, name=\"carbs_output_layer\")(x)\n",
    "        return keras.Model(\n",
    "            inputs=input_layer, outputs=carbs_regression_layers, name=\"carbs_output\"\n",
    "        )\n",
    "\n",
    "    def get_protein_regression_layers(self, input_tensor, *num_units):\n",
    "        input_layer = keras.layers.Input(shape=input_tensor.shape[1:])\n",
    "        x = keras.layers.Dense(num_units[0], activation=\"relu\", name=\"protein_dense_1\")(\n",
    "            input_layer\n",
    "        )\n",
    "        x = keras.layers.BatchNormalization()(x)\n",
    "        x = keras.layers.Dense(num_units[1], activation=\"relu\", name=\"protein_dense_2\")(\n",
    "            x\n",
    "        )\n",
    "        x = keras.layers.BatchNormalization()(x)\n",
    "        protein_regression_layers = keras.layers.Dense(1, name=\"protein_output_layer\")(\n",
    "            x\n",
    "        )\n",
    "        return keras.Model(\n",
    "            inputs=input_layer, outputs=protein_regression_layers, name=\"protein_output\"\n",
    "        )\n",
    "\n",
    "    def get_fat_regression_layers(self, input_tensor, *num_units):\n",
    "        input_layer = keras.layers.Input(shape=input_tensor.shape[1:])\n",
    "        x = keras.layers.Dense(num_units[0], activation=\"relu\", name=\"fat_dense_1\")(\n",
    "            input_layer\n",
    "        )\n",
    "        x = keras.layers.BatchNormalization()(x)\n",
    "        x = keras.layers.Dense(num_units[1], activation=\"relu\", name=\"fat_dense_2\")(x)\n",
    "        x = keras.layers.BatchNormalization()(x)\n",
    "        fat_regression_layers = keras.layers.Dense(1, name=\"fat_output_layer\")(x)\n",
    "        return keras.Model(\n",
    "            inputs=input_layer, outputs=fat_regression_layers, name=\"fat_output\"\n",
    "        )\n",
    "\n",
    "    def get_ingredients_multilabel_layers(\n",
    "        self, input_tensor, total_ingredients, *num_units\n",
    "    ):\n",
    "        input_layer = keras.layers.Input(shape=input_tensor.shape[1:])\n",
    "        ingredients_multilabel_layers = keras.layers.Dense(\n",
    "            num_units[0], activation=\"relu\", name=\"ingredients_dense_1\"\n",
    "        )(input_layer)\n",
    "        ingredients_multilabel_layers = keras.layers.BatchNormalization()(\n",
    "            ingredients_multilabel_layers\n",
    "        )\n",
    "        ingredients_multilabel_layers = keras.layers.Dense(\n",
    "            num_units[1], activation=\"relu\", name=\"ingredients_dense_2\"\n",
    "        )(ingredients_multilabel_layers)\n",
    "        ingredients_multilabel_layers = keras.layers.BatchNormalization()(\n",
    "            ingredients_multilabel_layers\n",
    "        )\n",
    "        ingredients_multilabel_layers = keras.layers.Dense(\n",
    "            num_units[2], activation=\"relu\", name=\"ingredients_dense_3\"\n",
    "        )(ingredients_multilabel_layers)\n",
    "        ingredients_multilabel_layers = keras.layers.BatchNormalization()(\n",
    "            ingredients_multilabel_layers\n",
    "        )\n",
    "        output_layers = keras.layers.Dense(\n",
    "            total_ingredients, activation=\"sigmoid\", name=\"ingredients_output_layer\"\n",
    "        )(ingredients_multilabel_layers)\n",
    "        return keras.Model(\n",
    "            inputs=input_layer, outputs=output_layers, name=\"ingredients_output\"\n",
    "        )\n",
    "\n",
    "    # End of layers  #\n",
    "\n",
    "    def load_model(self, path):\n",
    "        self.model = keras.models.load_model(path)\n",
    "\n",
    "    def print_summary(self):\n",
    "        assert (\n",
    "            self.model is not None\n",
    "        ), \"Please run build_and_compile before printing summary.\"\n",
    "        self.model.summary(expand_nested=True, show_trainable=True)\n",
    "\n",
    "    def save_model(self, path):\n",
    "        assert self.model is not None\n",
    "        self.model.save(path, save_format=\"h5\")\n",
    "\n",
    "    def train_model(self, **kwargs):\n",
    "        assert self.model is not None, \"No model found.\"\n",
    "        return self.model.fit(**kwargs, callbacks=self.get_callbacks())\n",
    "\n",
    "    def unfreeze_category_classification_layers(self):\n",
    "        assert self.model is not None\n",
    "        submodel = self.model.get_layer(\"category_output\")\n",
    "        submodel.trainable = False\n",
    "\n",
    "    def unfreeze_convolution_base(self, fine_tune_at=0):\n",
    "        assert self.model is not None\n",
    "        submodel = self.model.get_layer(\"efficientnetb1\")\n",
    "        submodel.trainable = True\n",
    "        for layer in submodel.layers[:fine_tune_at]:\n",
    "            layer.trainable = False"
   ]
  },
  {
   "cell_type": "markdown",
   "metadata": {
    "tags": []
   },
   "source": [
    "## Flat Model"
   ]
  },
  {
   "cell_type": "code",
   "execution_count": null,
   "metadata": {
    "execution": {
     "iopub.execute_input": "2022-12-21T06:01:01.387744Z",
     "iopub.status.busy": "2022-12-21T06:01:01.386824Z",
     "iopub.status.idle": "2022-12-21T06:01:01.398526Z",
     "shell.execute_reply": "2022-12-21T06:01:01.397528Z",
     "shell.execute_reply.started": "2022-12-21T06:01:01.387697Z"
    },
    "tags": []
   },
   "outputs": [],
   "source": [
    "class FlatModel(BaseModel):\n",
    "    def __init__(\n",
    "        self,\n",
    "        input_shape,\n",
    "        total_food_category,\n",
    "        total_ingredients_category,\n",
    "        name,\n",
    "        model_config_name,\n",
    "    ):\n",
    "        super().__init__(\n",
    "            input_shape,\n",
    "            total_food_category,\n",
    "            total_ingredients_category,\n",
    "            name,\n",
    "            model_config_name,\n",
    "        )\n",
    "\n",
    "    def build(\n",
    "        self,\n",
    "        shared_units,\n",
    "        independent_category_units,\n",
    "        independent_protein_units,\n",
    "        independent_fat_units,\n",
    "        independent_carbs_units,\n",
    "        independent_calorie_units,\n",
    "        independent_ingredients_units,\n",
    "    ):\n",
    "        model_inputs = self.get_input_layer()\n",
    "        prev_layer = self.get_augmentation_layers()(model_inputs)\n",
    "        prev_layer = self.get_preprocess_layers(prev_layer)(prev_layer)\n",
    "        prev_layer = self.get_convolution_block()(prev_layer)\n",
    "        prev_layer = self.get_shared_layers(prev_layer, *shared_units)(prev_layer)\n",
    "        category_classification_head = self.get_category_classification_layers(\n",
    "            prev_layer, self.total_food_category, *independent_category_units\n",
    "        )(prev_layer)\n",
    "        ingredients_multilabel_head = self.get_ingredients_multilabel_layers(\n",
    "            prev_layer, self.total_ingredients_category, *independent_ingredients_units\n",
    "        )(prev_layer)\n",
    "        calorie_regression_head = self.get_calorie_regression_layers(\n",
    "            prev_layer, *independent_calorie_units\n",
    "        )(prev_layer)\n",
    "        carbs_regression_head = self.get_carbs_regression_layers(\n",
    "            prev_layer, *independent_carbs_units\n",
    "        )(prev_layer)\n",
    "        protein_regression_head = self.get_protein_regression_layers(\n",
    "            prev_layer, *independent_protein_units\n",
    "        )(prev_layer)\n",
    "        fat_regression_head = self.get_fat_regression_layers(\n",
    "            prev_layer, *independent_fat_units\n",
    "        )(prev_layer)\n",
    "\n",
    "        model = keras.Model(\n",
    "            inputs=model_inputs,\n",
    "            outputs=[\n",
    "                category_classification_head,\n",
    "                ingredients_multilabel_head,\n",
    "                calorie_regression_head,\n",
    "                carbs_regression_head,\n",
    "                protein_regression_head,\n",
    "                fat_regression_head,\n",
    "            ],\n",
    "            name=self.name,\n",
    "        )\n",
    "        self.model = model"
   ]
  },
  {
   "cell_type": "markdown",
   "metadata": {},
   "source": [
    "### EfficientNetB1 (Best)"
   ]
  },
  {
   "cell_type": "code",
   "execution_count": null,
   "metadata": {
    "execution": {
     "iopub.execute_input": "2022-12-21T06:01:04.858645Z",
     "iopub.status.busy": "2022-12-21T06:01:04.857966Z",
     "iopub.status.idle": "2022-12-21T06:01:04.866509Z",
     "shell.execute_reply": "2022-12-21T06:01:04.865059Z",
     "shell.execute_reply.started": "2022-12-21T06:01:04.858608Z"
    }
   },
   "outputs": [],
   "source": [
    "class FlatEfficientNetB1Model(FlatModel):\n",
    "    def __init__(\n",
    "        self,\n",
    "        input_shape,\n",
    "        total_food_category,\n",
    "        total_ingredients_category,\n",
    "        model_config_name,\n",
    "    ):\n",
    "        super().__init__(\n",
    "            input_shape,\n",
    "            total_food_category,\n",
    "            total_ingredients_category,\n",
    "            \"flat_efficientnetB1\",\n",
    "            model_config_name,\n",
    "        )\n",
    "\n",
    "    def get_preprocess_layers(self, input_tensor):\n",
    "        input_layer = keras.layers.Input(shape=input_tensor.shape[1:])\n",
    "        output_layer = keras.applications.efficientnet.preprocess_input(input_layer)\n",
    "        return keras.Model(\n",
    "            inputs=input_layer, outputs=output_layer, name=\"preprocessing_layers\"\n",
    "        )\n",
    "\n",
    "    def get_convolution_block(self):\n",
    "        efficientnet_convolution_layers = (\n",
    "            keras.applications.efficientnet.EfficientNetB1(\n",
    "                input_shape=self.input_shape,\n",
    "                include_top=False,\n",
    "                weights=\"imagenet\",\n",
    "                pooling=\"avg\",\n",
    "            )\n",
    "        )\n",
    "        efficientnet_convolution_layers.trainable = False\n",
    "        return efficientnet_convolution_layers"
   ]
  },
  {
   "cell_type": "markdown",
   "metadata": {},
   "source": [
    "#### Train on ingredients dataset (nutrition5k)"
   ]
  },
  {
   "cell_type": "code",
   "execution_count": null,
   "metadata": {
    "execution": {
     "iopub.execute_input": "2022-12-19T00:44:46.200042Z",
     "iopub.status.busy": "2022-12-19T00:44:46.199643Z",
     "iopub.status.idle": "2022-12-19T00:45:07.613426Z",
     "shell.execute_reply": "2022-12-19T00:45:07.612457Z",
     "shell.execute_reply.started": "2022-12-19T00:44:46.200009Z"
    },
    "tags": []
   },
   "outputs": [],
   "source": [
    "flat_efficientnet = FlatEfficientNetB1Model(\n",
    "    input_shape=(224, 224, 3),\n",
    "    total_food_category=len(data_pipeline.one_hot_encoder.all_food_categories),\n",
    "    total_ingredients_category=len(data_pipeline.one_hot_encoder.all_ingredients),\n",
    "    model_config_name=\"finalIngredients\",\n",
    ")\n",
    "\n",
    "flat_efficientnet.build(\n",
    "    shared_units=[2048],\n",
    "    independent_category_units=[512],\n",
    "    independent_ingredients_units=[1024, 512, 256],\n",
    "    independent_protein_units=[64, 32],\n",
    "    independent_fat_units=[64, 32],\n",
    "    independent_carbs_units=[64, 32],\n",
    "    independent_calorie_units=[64, 32],\n",
    ")\n",
    "flat_efficientnet.freeze_category_classification_layers()\n",
    "flat_efficientnet.compile_model(keras.optimizers.Adam())\n",
    "\n",
    "flat_efficientnet.print_summary()"
   ]
  },
  {
   "cell_type": "code",
   "execution_count": null,
   "metadata": {
    "execution": {
     "iopub.execute_input": "2022-12-19T00:52:43.571838Z",
     "iopub.status.busy": "2022-12-19T00:52:43.571474Z",
     "iopub.status.idle": "2022-12-19T03:17:12.423837Z",
     "shell.execute_reply": "2022-12-19T03:17:12.422935Z",
     "shell.execute_reply.started": "2022-12-19T00:52:43.571804Z"
    },
    "tags": []
   },
   "outputs": [],
   "source": [
    "flat_efficientnet.train_model(\n",
    "    x=no_category_train,\n",
    "    validation_data=no_category_val,\n",
    "    epochs=30,\n",
    "    verbose=2,\n",
    ")"
   ]
  },
  {
   "cell_type": "markdown",
   "metadata": {},
   "source": [
    "#### Train on main dataset (recipes5k + food101 + nutrition5k) with weights transfer from ingredients dataset"
   ]
  },
  {
   "cell_type": "code",
   "execution_count": null,
   "metadata": {
    "execution": {
     "iopub.execute_input": "2022-12-21T08:59:39.036245Z",
     "iopub.status.busy": "2022-12-21T08:59:39.035856Z",
     "iopub.status.idle": "2022-12-21T09:00:04.297152Z",
     "shell.execute_reply": "2022-12-21T09:00:04.296174Z",
     "shell.execute_reply.started": "2022-12-21T08:59:39.036214Z"
    },
    "tags": []
   },
   "outputs": [],
   "source": [
    "flat_efficientnet = FlatEfficientNetB1Model(\n",
    "    input_shape=(224, 224, 3),\n",
    "    total_food_category=len(data_pipeline.one_hot_encoder.all_food_categories),\n",
    "    total_ingredients_category=len(data_pipeline.one_hot_encoder.all_ingredients),\n",
    "    model_config_name=\"finalCategory\",\n",
    ")\n",
    "\n",
    "flat_efficientnet.load_model(\"./temp/checkpoint/flat_efficientnetB1/finalIngredients/model\")\n",
    "flat_efficientnet.unfreeze_category_classification_layers()\n",
    "flat_efficientnet.compile_model(keras.optimizers.Adam())\n",
    "\n",
    "flat_efficientnet.print_summary()"
   ]
  },
  {
   "cell_type": "code",
   "execution_count": null,
   "metadata": {
    "execution": {
     "iopub.execute_input": "2022-12-21T06:05:29.967503Z",
     "iopub.status.busy": "2022-12-21T06:05:29.966874Z",
     "iopub.status.idle": "2022-12-21T08:58:08.180481Z",
     "shell.execute_reply": "2022-12-21T08:58:08.179528Z",
     "shell.execute_reply.started": "2022-12-21T06:05:29.967458Z"
    }
   },
   "outputs": [],
   "source": [
    "flat_efficientnet.train_model(\n",
    "    x=train_dataset,\n",
    "    validation_data=validation_dataset,\n",
    "    epochs=50,\n",
    "    verbose=2,\n",
    ")"
   ]
  },
  {
   "cell_type": "markdown",
   "metadata": {},
   "source": [
    "#### Train on main dataset (recipes5k + food101 + nutrition5k) without weights transfer"
   ]
  },
  {
   "cell_type": "code",
   "execution_count": null,
   "metadata": {
    "execution": {
     "iopub.execute_input": "2022-12-19T10:02:50.623454Z",
     "iopub.status.busy": "2022-12-19T10:02:50.622739Z",
     "iopub.status.idle": "2022-12-19T10:02:57.185075Z",
     "shell.execute_reply": "2022-12-19T10:02:57.184057Z",
     "shell.execute_reply.started": "2022-12-19T10:02:50.623416Z"
    },
    "tags": []
   },
   "outputs": [],
   "source": [
    "flat_efficientnet = FlatEfficientNetB1Model(\n",
    "    input_shape=(224, 224, 3),\n",
    "    total_food_category=len(data_pipeline.one_hot_encoder.all_food_categories),\n",
    "    total_ingredients_category=len(data_pipeline.one_hot_encoder.all_ingredients),\n",
    "    model_config_name=\"finalCategoryNoTransfer\",\n",
    ")\n",
    "\n",
    "flat_efficientnet.build(\n",
    "    shared_units=[2048],\n",
    "    independent_category_units=[512],\n",
    "    independent_ingredients_units=[1024, 512, 256],\n",
    "    independent_protein_units=[64, 32],\n",
    "    independent_fat_units=[64, 32],\n",
    "    independent_carbs_units=[64, 32],\n",
    "    independent_calorie_units=[64, 32],\n",
    ")\n",
    "flat_efficientnet.compile_model(keras.optimizers.Adam())\n",
    "\n",
    "flat_efficientnet.print_summary()"
   ]
  },
  {
   "cell_type": "code",
   "execution_count": null,
   "metadata": {
    "execution": {
     "iopub.execute_input": "2022-12-19T10:03:26.239847Z",
     "iopub.status.busy": "2022-12-19T10:03:26.239481Z",
     "iopub.status.idle": "2022-12-19T13:17:25.885909Z",
     "shell.execute_reply": "2022-12-19T13:17:25.884763Z",
     "shell.execute_reply.started": "2022-12-19T10:03:26.239808Z"
    },
    "tags": []
   },
   "outputs": [],
   "source": [
    "flat_efficientnet.train_model(\n",
    "    x=train_dataset, validation_data=validation_dataset, epochs=50, verbose=2\n",
    ")"
   ]
  },
  {
   "cell_type": "markdown",
   "metadata": {},
   "source": [
    "#### Fine tune the convolution base without weights transfer"
   ]
  },
  {
   "cell_type": "code",
   "execution_count": null,
   "metadata": {
    "execution": {
     "iopub.execute_input": "2022-12-20T03:58:59.646162Z",
     "iopub.status.busy": "2022-12-20T03:58:59.645782Z",
     "iopub.status.idle": "2022-12-20T03:59:24.317395Z",
     "shell.execute_reply": "2022-12-20T03:59:24.316351Z",
     "shell.execute_reply.started": "2022-12-20T03:58:59.646133Z"
    }
   },
   "outputs": [],
   "source": [
    "flat_efficientnet = FlatEfficientNetB1Model(\n",
    "    input_shape=(224, 224, 3),\n",
    "    total_food_category=len(data_pipeline.one_hot_encoder.all_food_categories),\n",
    "    total_ingredients_category=len(data_pipeline.one_hot_encoder.all_ingredients),\n",
    "    model_config_name=\"finalCategoryNoTransferFineTuned\",\n",
    ")\n",
    "flat_efficientnet.load_model(\n",
    "    \"./temp/checkpoint/flat_efficientnetB1/finalCategoryNoTransfer/model\"\n",
    ")\n",
    "flat_efficientnet.unfreeze_convolution_base(117)\n",
    "flat_efficientnet.compile_model(keras.optimizers.Adam(learning_rate=1e-5))\n",
    "flat_efficientnet.print_summary()"
   ]
  },
  {
   "cell_type": "code",
   "execution_count": null,
   "metadata": {
    "execution": {
     "iopub.execute_input": "2022-12-20T03:59:56.660973Z",
     "iopub.status.busy": "2022-12-20T03:59:56.660580Z",
     "iopub.status.idle": "2022-12-20T06:48:12.652710Z",
     "shell.execute_reply": "2022-12-20T06:48:12.651670Z",
     "shell.execute_reply.started": "2022-12-20T03:59:56.660941Z"
    }
   },
   "outputs": [],
   "source": [
    "flat_efficientnet.train_model(\n",
    "    x=train_dataset,\n",
    "    validation_data=validation_dataset,\n",
    "    epochs=100,\n",
    "    verbose=2,\n",
    ")"
   ]
  },
  {
   "cell_type": "markdown",
   "metadata": {
    "tags": []
   },
   "source": [
    "### MobileNetv3"
   ]
  },
  {
   "cell_type": "code",
   "execution_count": null,
   "metadata": {
    "execution": {
     "iopub.execute_input": "2022-12-17T12:26:21.186507Z",
     "iopub.status.busy": "2022-12-17T12:26:21.186142Z",
     "iopub.status.idle": "2022-12-17T12:26:21.194907Z",
     "shell.execute_reply": "2022-12-17T12:26:21.193724Z",
     "shell.execute_reply.started": "2022-12-17T12:26:21.186475Z"
    },
    "tags": []
   },
   "outputs": [],
   "source": [
    "class FlatMobileNetv3Model(FlatModel):\n",
    "    def __init__(\n",
    "        self,\n",
    "        input_shape,\n",
    "        total_food_category,\n",
    "        total_ingredients_category,\n",
    "        model_config_name,\n",
    "    ):\n",
    "        super().__init__(\n",
    "            input_shape,\n",
    "            total_food_category,\n",
    "            total_ingredients_category,\n",
    "            \"flat_mobilenetv3\",\n",
    "            model_config_name,\n",
    "        )\n",
    "\n",
    "    def get_preprocess_layers(self, input_tensor):\n",
    "        input_layer = keras.layers.Input(shape=input_tensor.shape[1:])\n",
    "        output_layer = keras.applications.mobilenet_v3.preprocess_input(input_layer)\n",
    "        return keras.Model(\n",
    "            inputs=input_layer, outputs=output_layer, name=\"preprocessing_layers\"\n",
    "        )\n",
    "\n",
    "    def get_convolution_block(self):\n",
    "        mobilenet_v3_convolution_layers = keras.applications.MobileNetV3Large(\n",
    "            input_shape=self.input_shape,\n",
    "            include_top=False,\n",
    "            weights=\"imagenet\",\n",
    "            pooling=\"avg\",\n",
    "        )\n",
    "        mobilenet_v3_convolution_layers.trainable = False\n",
    "        return mobilenet_v3_convolution_layers"
   ]
  },
  {
   "cell_type": "markdown",
   "metadata": {},
   "source": [
    "#### Train on main dataset (recipes5k + food101 + nutrition5k)"
   ]
  },
  {
   "cell_type": "code",
   "execution_count": null,
   "metadata": {
    "execution": {
     "iopub.execute_input": "2022-12-17T12:29:32.746610Z",
     "iopub.status.busy": "2022-12-17T12:29:32.745904Z",
     "iopub.status.idle": "2022-12-17T12:29:35.593170Z",
     "shell.execute_reply": "2022-12-17T12:29:35.592122Z",
     "shell.execute_reply.started": "2022-12-17T12:29:32.746564Z"
    },
    "tags": []
   },
   "outputs": [],
   "source": [
    "flat_mobilenetv3 = FlatMobileNetv3Model(\n",
    "    input_shape=(224, 224, 3),\n",
    "    total_food_category=len(data_pipeline.one_hot_encoder.all_food_categories),\n",
    "    total_ingredients_category=len(data_pipeline.one_hot_encoder.all_ingredients),\n",
    "    model_config_name=\"1-2048-(1-512)-[(2-64-32)-(2-64-32)-(2-64-32)-(2-64-32)]-(3-1024-512-256)-B256\",\n",
    ")\n",
    "\n",
    "flat_mobilenetv3.build(\n",
    "    shared_units=[2048],\n",
    "    independent_category_units=[512],\n",
    "    independent_ingredients_units=[1024, 512, 256],\n",
    "    independent_protein_units=[64, 32],\n",
    "    independent_fat_units=[64, 32],\n",
    "    independent_carbs_units=[64, 32],\n",
    "    independent_calorie_units=[64, 32],\n",
    ")\n",
    "flat_mobilenetv3.compile_model(keras.optimizers.Adam())\n",
    "flat_mobilenetv3.print_summary()"
   ]
  },
  {
   "cell_type": "code",
   "execution_count": null,
   "metadata": {
    "execution": {
     "iopub.execute_input": "2022-12-17T12:30:40.265319Z",
     "iopub.status.busy": "2022-12-17T12:30:40.264919Z",
     "iopub.status.idle": "2022-12-17T13:57:54.690588Z",
     "shell.execute_reply": "2022-12-17T13:57:54.689649Z",
     "shell.execute_reply.started": "2022-12-17T12:30:40.265288Z"
    }
   },
   "outputs": [],
   "source": [
    "flat_mobilenetv3.train_model(\n",
    "    x=no_category_train, validation_data=no_category_val, epochs=2, verbose=1\n",
    ")"
   ]
  },
  {
   "cell_type": "markdown",
   "metadata": {},
   "source": [
    "### NASNet Mobile"
   ]
  },
  {
   "cell_type": "code",
   "execution_count": null,
   "metadata": {
    "execution": {
     "iopub.execute_input": "2022-12-04T05:18:31.842774Z",
     "iopub.status.busy": "2022-12-04T05:18:31.842409Z",
     "iopub.status.idle": "2022-12-04T05:18:31.851389Z",
     "shell.execute_reply": "2022-12-04T05:18:31.850232Z",
     "shell.execute_reply.started": "2022-12-04T05:18:31.842744Z"
    }
   },
   "outputs": [],
   "source": [
    "class FlatNASNetModel(FlatModel):\n",
    "    def __init__(\n",
    "        self,\n",
    "        input_shape,\n",
    "        total_food_category,\n",
    "        total_ingredients_category,\n",
    "        model_config_name,\n",
    "    ):\n",
    "        super().__init__(\n",
    "            input_shape,\n",
    "            total_food_category,\n",
    "            total_ingredients_category,\n",
    "            \"flat_nasnet\",\n",
    "            model_config_name,\n",
    "        )\n",
    "\n",
    "    def get_preprocess_layers(self, input_tensor):\n",
    "        input_layer = keras.layers.Input(shape=input_tensor.shape[1:])\n",
    "        output_layer = keras.applications.nasnet.preprocess_input(input_layer)\n",
    "        return keras.Model(\n",
    "            inputs=input_layer, outputs=output_layer, name=\"preprocessing_layers\"\n",
    "        )\n",
    "\n",
    "    def get_convolution_block(self):\n",
    "        nasnet_convolution_layers = keras.applications.nasnet.NASNetMobile(\n",
    "            input_shape=self.input_shape,\n",
    "            include_top=False,\n",
    "            weights=\"imagenet\",\n",
    "            pooling=\"avg\",\n",
    "        )\n",
    "        nasnet_convolution_layers.trainable = False\n",
    "        return nasnet_convolution_layers"
   ]
  },
  {
   "cell_type": "markdown",
   "metadata": {},
   "source": [
    "#### Train on main dataset (recipes5k + food101 + nutrition5k)"
   ]
  },
  {
   "cell_type": "code",
   "execution_count": null,
   "metadata": {
    "execution": {
     "iopub.execute_input": "2022-12-04T05:18:44.474841Z",
     "iopub.status.busy": "2022-12-04T05:18:44.474479Z",
     "iopub.status.idle": "2022-12-04T05:18:47.428338Z",
     "shell.execute_reply": "2022-12-04T05:18:47.425556Z",
     "shell.execute_reply.started": "2022-12-04T05:18:44.474810Z"
    },
    "tags": []
   },
   "outputs": [],
   "source": [
    "flat_nasnet = FlatNASNetModel(\n",
    "    input_shape=(224, 224, 3),\n",
    "    total_food_category=len(data_pipeline.one_hot_encoder.all_food_categories),\n",
    "    total_ingredients_category=len(data_pipeline.one_hot_encoder.all_ingredients),\n",
    "    model_config_name=\"1-2048-(1-512)-[(2-64-32)-(2-64-32)-(2-64-32)-(2-64-32)]-(3-1024-512-256)-B256\",\n",
    ")\n",
    "\n",
    "flat_nasnet.build(\n",
    "    shared_units=[2048],\n",
    "    independent_category_units=[512],\n",
    "    independent_ingredients_units=[1024, 512, 256],\n",
    "    independent_protein_units=[64, 32],\n",
    "    independent_fat_units=[64, 32],\n",
    "    independent_carbs_units=[64, 32],\n",
    "    independent_calorie_units=[64, 32],\n",
    ")\n",
    "flat_nasnet.compile_model(keras.optimizers.Adam())\n",
    "\n",
    "flat_nasnet.print_summary()"
   ]
  },
  {
   "cell_type": "code",
   "execution_count": null,
   "metadata": {
    "execution": {
     "iopub.execute_input": "2022-12-04T05:19:48.110654Z",
     "iopub.status.busy": "2022-12-04T05:19:48.110285Z"
    }
   },
   "outputs": [],
   "source": [
    "flat_nasnet.train_model(\n",
    "    x=train_dataset, validation_data=validation_dataset, epochs=10, verbose=1\n",
    ")"
   ]
  },
  {
   "cell_type": "markdown",
   "metadata": {
    "tags": []
   },
   "source": [
    "## Wide Slice Model"
   ]
  },
  {
   "cell_type": "code",
   "execution_count": null,
   "metadata": {
    "execution": {
     "iopub.execute_input": "2022-12-21T02:19:45.620931Z",
     "iopub.status.busy": "2022-12-21T02:19:45.620550Z",
     "iopub.status.idle": "2022-12-21T02:19:45.634933Z",
     "shell.execute_reply": "2022-12-21T02:19:45.631683Z",
     "shell.execute_reply.started": "2022-12-21T02:19:45.620894Z"
    }
   },
   "outputs": [],
   "source": [
    "class WideSliceModel(BaseModel):\n",
    "    def build(\n",
    "        self,\n",
    "        shared_units,\n",
    "        independent_category_units,\n",
    "        independent_protein_units,\n",
    "        independent_fat_units,\n",
    "        independent_carbs_units,\n",
    "        independent_calorie_units,\n",
    "        independent_ingredients_units,\n",
    "    ):\n",
    "        model_inputs = self.get_input_layer()\n",
    "        prev_layer = self.get_augmentation_layers()(model_inputs)\n",
    "        prev_layer = self.get_preprocess_layers(prev_layer)(prev_layer)\n",
    "        conv_layer = self.get_convolution_block()(prev_layer)\n",
    "        wide_slice_layer = self.get_wideslice_conv_layers(prev_layer)(prev_layer)\n",
    "        prev_layer = keras.layers.Concatenate()([conv_layer, wide_slice_layer])\n",
    "        prev_layer = self.get_shared_layers(prev_layer, *shared_units)(prev_layer)\n",
    "        category_classification_head = self.get_category_classification_layers(\n",
    "            prev_layer, self.total_food_category, *independent_category_units\n",
    "        )(prev_layer)\n",
    "        ingredients_multilabel_head = self.get_ingredients_multilabel_layers(\n",
    "            prev_layer, self.total_ingredients_category, *independent_ingredients_units\n",
    "        )(prev_layer)\n",
    "        calorie_regression_head = self.get_calorie_regression_layers(\n",
    "            prev_layer, *independent_calorie_units\n",
    "        )(prev_layer)\n",
    "        carbs_regression_head = self.get_carbs_regression_layers(\n",
    "            prev_layer, *independent_carbs_units\n",
    "        )(prev_layer)\n",
    "        protein_regression_head = self.get_protein_regression_layers(\n",
    "            prev_layer, *independent_protein_units\n",
    "        )(prev_layer)\n",
    "        fat_regression_head = self.get_fat_regression_layers(\n",
    "            prev_layer, *independent_fat_units\n",
    "        )(prev_layer)\n",
    "\n",
    "        model = keras.Model(\n",
    "            inputs=model_inputs,\n",
    "            outputs=[\n",
    "                category_classification_head,\n",
    "                ingredients_multilabel_head,\n",
    "                calorie_regression_head,\n",
    "                carbs_regression_head,\n",
    "                protein_regression_head,\n",
    "                fat_regression_head,\n",
    "            ],\n",
    "            name=self.name,\n",
    "        )\n",
    "        self.model = model\n",
    "\n",
    "    def get_wideslice_conv_layers(self, input_tensor):\n",
    "        input_layer = keras.layers.Input(shape=input_tensor.shape[1:])\n",
    "        rescale_layer = keras.layers.Rescaling(scale=1.0 / 255)(input_layer)\n",
    "        wideslice_conv = keras.layers.Conv2D(filters=64, kernel_size=(5, 224))(\n",
    "            rescale_layer\n",
    "        )\n",
    "        wideslice_conv = keras.layers.BatchNormalization()(wideslice_conv)\n",
    "        wideslice_conv = keras.layers.ReLU()(wideslice_conv)\n",
    "        wideslice_conv = keras.layers.GlobalMaxPool2D()(wideslice_conv)\n",
    "        return keras.Model(\n",
    "            inputs=input_layer, outputs=wideslice_conv, name=\"wideslice_conv\"\n",
    "        )"
   ]
  },
  {
   "cell_type": "markdown",
   "metadata": {},
   "source": [
    "### EfficientNetB1"
   ]
  },
  {
   "cell_type": "code",
   "execution_count": null,
   "metadata": {
    "execution": {
     "iopub.execute_input": "2022-12-21T02:19:48.115394Z",
     "iopub.status.busy": "2022-12-21T02:19:48.115024Z",
     "iopub.status.idle": "2022-12-21T02:19:48.123242Z",
     "shell.execute_reply": "2022-12-21T02:19:48.121975Z",
     "shell.execute_reply.started": "2022-12-21T02:19:48.115362Z"
    }
   },
   "outputs": [],
   "source": [
    "class WideSliceEfficientNetModel(WideSliceModel):\n",
    "    def __init__(\n",
    "        self,\n",
    "        input_shape,\n",
    "        total_food_category,\n",
    "        total_ingredients_category,\n",
    "        model_config_name,\n",
    "    ):\n",
    "        super().__init__(\n",
    "            input_shape,\n",
    "            total_food_category,\n",
    "            total_ingredients_category,\n",
    "            \"wideslice_efficientnetB1\",\n",
    "            model_config_name,\n",
    "        )\n",
    "\n",
    "    def get_preprocess_layers(self, input_tensor):\n",
    "        input_layer = keras.layers.Input(shape=input_tensor.shape[1:])\n",
    "        output_layer = keras.applications.efficientnet.preprocess_input(input_layer)\n",
    "        return keras.Model(\n",
    "            inputs=input_layer, outputs=output_layer, name=\"preprocessing_layers\"\n",
    "        )\n",
    "\n",
    "    def get_convolution_block(self):\n",
    "        efficientnet_convolution_layers = (\n",
    "            keras.applications.efficientnet.EfficientNetB1(\n",
    "                input_shape=self.input_shape,\n",
    "                include_top=False,\n",
    "                weights=\"imagenet\",\n",
    "                pooling=\"avg\",\n",
    "            )\n",
    "        )\n",
    "        efficientnet_convolution_layers.trainable = False\n",
    "        return efficientnet_convolution_layers"
   ]
  },
  {
   "cell_type": "markdown",
   "metadata": {},
   "source": [
    "#### Train on main dataset (recipes5k + food101 + nutrition5k)"
   ]
  },
  {
   "cell_type": "code",
   "execution_count": null,
   "metadata": {
    "execution": {
     "iopub.execute_input": "2022-12-20T07:11:20.637170Z",
     "iopub.status.busy": "2022-12-20T07:11:20.636818Z",
     "iopub.status.idle": "2022-12-20T07:11:25.024492Z",
     "shell.execute_reply": "2022-12-20T07:11:25.023418Z",
     "shell.execute_reply.started": "2022-12-20T07:11:20.637138Z"
    },
    "tags": []
   },
   "outputs": [],
   "source": [
    "wideslice_efficientnet = WideSliceEfficientNetModel(\n",
    "    input_shape=(224, 224, 3),\n",
    "    total_food_category=len(data_pipeline.one_hot_encoder.all_food_categories),\n",
    "    total_ingredients_category=len(data_pipeline.one_hot_encoder.all_ingredients),\n",
    "    model_config_name=\"finalCategoryNoTransfer\",\n",
    ")\n",
    "\n",
    "wideslice_efficientnet.build(\n",
    "    shared_units=[2048],\n",
    "    independent_category_units=[512],\n",
    "    independent_protein_units=[64, 32],\n",
    "    independent_fat_units=[64, 32],\n",
    "    independent_carbs_units=[64, 32],\n",
    "    independent_calorie_units=[64, 32],\n",
    "    independent_ingredients_units=[1024, 512, 256],\n",
    ")\n",
    "wideslice_efficientnet.compile_model(keras.optimizers.Adam())\n",
    "wideslice_efficientnet.print_summary()"
   ]
  },
  {
   "cell_type": "code",
   "execution_count": null,
   "metadata": {
    "execution": {
     "iopub.execute_input": "2022-12-20T07:12:29.045169Z",
     "iopub.status.busy": "2022-12-20T07:12:29.044790Z",
     "iopub.status.idle": "2022-12-20T10:46:43.256997Z",
     "shell.execute_reply": "2022-12-20T10:46:43.256086Z",
     "shell.execute_reply.started": "2022-12-20T07:12:29.045136Z"
    },
    "tags": []
   },
   "outputs": [],
   "source": [
    "wideslice_efficientnet.train_model(\n",
    "    x=train_dataset, epochs=50, verbose=2, validation_data=validation_dataset\n",
    ")"
   ]
  },
  {
   "cell_type": "markdown",
   "metadata": {},
   "source": [
    "#### Transfer weights from fine tuned flat model"
   ]
  },
  {
   "cell_type": "code",
   "execution_count": null,
   "metadata": {
    "execution": {
     "iopub.execute_input": "2022-12-20T12:06:46.950226Z",
     "iopub.status.busy": "2022-12-20T12:06:46.949851Z",
     "iopub.status.idle": "2022-12-20T12:07:09.233707Z",
     "shell.execute_reply": "2022-12-20T12:07:09.232690Z",
     "shell.execute_reply.started": "2022-12-20T12:06:46.950195Z"
    }
   },
   "outputs": [],
   "source": [
    "fine_tuned_flat_efficientnet = keras.models.load_model(\n",
    "    \"./temp/checkpoint/flat_efficientnetB1/finalCategoryNoTransferFineTuned/model\"\n",
    ")\n",
    "fine_tuned_efficientnet_weights = fine_tuned_flat_efficientnet.get_layer(\n",
    "    \"efficientnetb1\"\n",
    ").get_weights()"
   ]
  },
  {
   "cell_type": "code",
   "execution_count": null,
   "metadata": {
    "execution": {
     "iopub.execute_input": "2022-12-20T12:07:29.132569Z",
     "iopub.status.busy": "2022-12-20T12:07:29.132169Z",
     "iopub.status.idle": "2022-12-20T12:07:50.672856Z",
     "shell.execute_reply": "2022-12-20T12:07:50.671840Z",
     "shell.execute_reply.started": "2022-12-20T12:07:29.132533Z"
    }
   },
   "outputs": [],
   "source": [
    "wideslice_efficientnet = WideSliceEfficientNetModel(\n",
    "    input_shape=(224, 224, 3),\n",
    "    total_food_category=len(data_pipeline.one_hot_encoder.all_food_categories),\n",
    "    total_ingredients_category=len(data_pipeline.one_hot_encoder.all_ingredients),\n",
    "    model_config_name=\"finalCategoryNoTransferFineTuned\",\n",
    ")\n",
    "\n",
    "wideslice_efficientnet.load_model(\n",
    "    \"./temp/checkpoint/wideslice_efficientnetB1/finalCategoryNoTransfer/model\"\n",
    ")\n",
    "wideslice_efficientnet.unfreeze_convolution_base(117)\n",
    "wideslice_efficientnet.model.get_layer(\"efficientnetb1\").set_weights(\n",
    "    fine_tuned_efficientnet_weights\n",
    ")\n",
    "wideslice_efficientnet.compile_model(keras.optimizers.Adam(learning_rate=1e-5))\n",
    "wideslice_efficientnet.print_summary()"
   ]
  },
  {
   "cell_type": "code",
   "execution_count": null,
   "metadata": {
    "execution": {
     "iopub.execute_input": "2022-12-21T02:24:15.723796Z",
     "iopub.status.busy": "2022-12-21T02:24:15.723365Z",
     "iopub.status.idle": "2022-12-21T04:14:05.308429Z",
     "shell.execute_reply": "2022-12-21T04:14:05.307444Z",
     "shell.execute_reply.started": "2022-12-21T02:24:15.723760Z"
    }
   },
   "outputs": [],
   "source": [
    "wideslice_efficientnet.train_model(\n",
    "    x=train_dataset,\n",
    "    epochs=50,\n",
    "    verbose=2,\n",
    "    validation_data=validation_dataset,\n",
    ")"
   ]
  }
 ],
 "metadata": {
  "kernelspec": {
   "display_name": "PY38-TF28-GPU",
   "language": "python",
   "name": "py38-tf28-gpu"
  },
  "language_info": {
   "codemirror_mode": {
    "name": "ipython",
    "version": 3
   },
   "file_extension": ".py",
   "mimetype": "text/x-python",
   "name": "python",
   "nbconvert_exporter": "python",
   "pygments_lexer": "ipython3",
   "version": "3.8.13"
  },
  "toc-autonumbering": false
 },
 "nbformat": 4,
 "nbformat_minor": 4
}
