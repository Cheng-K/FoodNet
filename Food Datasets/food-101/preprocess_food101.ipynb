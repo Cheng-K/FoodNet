{
 "cells": [
  {
   "cell_type": "code",
   "execution_count": 78,
   "id": "3a353ff0-8fe6-472c-8acb-0eba7d484839",
   "metadata": {},
   "outputs": [],
   "source": [
    "import random\n",
    "import shutil\n",
    "from collections import Counter, defaultdict\n",
    "from pathlib import Path\n",
    "from pprint import pprint\n",
    "\n",
    "import matplotlib.pyplot as plt\n",
    "import pandas as pd"
   ]
  },
  {
   "cell_type": "markdown",
   "id": "97a8c24f-2c7e-4ec4-8c39-554de2049cf5",
   "metadata": {},
   "source": [
    "## Analyze common ingredients from recipe5k for each 101 categories"
   ]
  },
  {
   "cell_type": "code",
   "execution_count": 4,
   "id": "902294a8-52b3-4240-bf25-dbc575f1778a",
   "metadata": {},
   "outputs": [],
   "source": [
    "cleaned_metadata = pd.read_csv(\n",
    "    \"../final-dataset/metadata/recipes5k_metadata.csv\", sep=\"\\t\"\n",
    ")"
   ]
  },
  {
   "cell_type": "code",
   "execution_count": 5,
   "id": "004ca65f-f2b8-4825-8c46-80a03204f40e",
   "metadata": {},
   "outputs": [],
   "source": [
    "all_categories = cleaned_metadata[\"Category\"].unique()"
   ]
  },
  {
   "cell_type": "code",
   "execution_count": 32,
   "id": "a104ea48-d3c1-4ede-8c65-8ab1316e38f0",
   "metadata": {
    "collapsed": true,
    "jupyter": {
     "outputs_hidden": true
    },
    "tags": []
   },
   "outputs": [
    {
     "name": "stdout",
     "output_type": "stream",
     "text": [
      "Category : apple_pie, Average Ingredients : 8\n",
      "Category : croque_madame, Average Ingredients : 10\n",
      "Category : paella, Average Ingredients : 16\n",
      "Category : gyoza, Average Ingredients : 12\n",
      "Category : crab_cakes, Average Ingredients : 11\n",
      "Category : carrot_cake, Average Ingredients : 13\n",
      "Category : chicken_curry, Average Ingredients : 12\n",
      "Category : steak, Average Ingredients : 6\n",
      "Category : cannoli, Average Ingredients : 10\n",
      "Category : ceviche, Average Ingredients : 10\n",
      "Category : shrimp_and_grits, Average Ingredients : 13\n",
      "Category : hummus, Average Ingredients : 8\n",
      "Category : hot_and_sour_soup, Average Ingredients : 15\n",
      "Category : nachos, Average Ingredients : 11\n",
      "Category : creme_brulee, Average Ingredients : 4\n",
      "Category : hamburger, Average Ingredients : 9\n",
      "Category : beef_tartare, Average Ingredients : 12\n",
      "Category : fish_and_chips, Average Ingredients : 10\n",
      "Category : falafel, Average Ingredients : 13\n",
      "Category : beet_salad, Average Ingredients : 8\n",
      "Category : samosa, Average Ingredients : 14\n",
      "Category : eggs_benedict, Average Ingredients : 9\n",
      "Category : beef_carpaccio, Average Ingredients : 10\n",
      "Category : pork_chop, Average Ingredients : 7\n",
      "Category : escargots, Average Ingredients : 9\n",
      "Category : churros, Average Ingredients : 8\n",
      "Category : miso_soup, Average Ingredients : 6\n",
      "Category : cheese_plate, Average Ingredients : 7\n",
      "Category : huevos_rancheros, Average Ingredients : 10\n",
      "Category : chicken_wings, Average Ingredients : 6\n",
      "Category : mussels, Average Ingredients : 9\n",
      "Category : chocolate_cake, Average Ingredients : 9\n",
      "Category : fried_calamari, Average Ingredients : 10\n",
      "Category : beignets, Average Ingredients : 9\n",
      "Category : french_fries, Average Ingredients : 6\n",
      "Category : macaroni_and_cheese, Average Ingredients : 8\n",
      "Category : onion_rings, Average Ingredients : 6\n",
      "Category : strawberry_shortcake, Average Ingredients : 7\n",
      "Category : beef_tacos, Average Ingredients : 14\n",
      "Category : oysters, Average Ingredients : 7\n",
      "Category : red_velvet_cake, Average Ingredients : 13\n",
      "Category : grilled_salmon, Average Ingredients : 8\n",
      "Category : guacamole, Average Ingredients : 6\n",
      "Category : clam_chowder, Average Ingredients : 11\n",
      "Category : foie_gras, Average Ingredients : 9\n",
      "Category : frozen_yogurt, Average Ingredients : 5\n",
      "Category : deviled_eggs, Average Ingredients : 7\n",
      "Category : cheesecake, Average Ingredients : 9\n",
      "Category : spaghetti_bolognese, Average Ingredients : 14\n",
      "Category : lasagna, Average Ingredients : 11\n",
      "Category : club_sandwich, Average Ingredients : 9\n",
      "Category : pad_thai, Average Ingredients : 16\n",
      "Category : takoyaki, Average Ingredients : 8\n",
      "Category : cupcakes, Average Ingredients : 10\n",
      "Category : peking_duck, Average Ingredients : 11\n",
      "Category : macarons, Average Ingredients : 7\n",
      "Category : sashimi, Average Ingredients : 10\n",
      "Category : tiramisu, Average Ingredients : 8\n",
      "Category : scallops, Average Ingredients : 7\n",
      "Category : grilled_cheese_sandwich, Average Ingredients : 7\n",
      "Category : greek_salad, Average Ingredients : 10\n",
      "Category : ravioli, Average Ingredients : 6\n",
      "Category : lobster_bisque, Average Ingredients : 14\n",
      "Category : pancakes, Average Ingredients : 7\n",
      "Category : spring_rolls, Average Ingredients : 13\n",
      "Category : bread_pudding, Average Ingredients : 8\n",
      "Category : poutine, Average Ingredients : 8\n",
      "Category : ramen, Average Ingredients : 14\n",
      "Category : omelette, Average Ingredients : 6\n",
      "Category : risotto, Average Ingredients : 10\n",
      "Category : french_onion_soup, Average Ingredients : 11\n",
      "Category : prime_rib, Average Ingredients : 5\n",
      "Category : baby_back_ribs, Average Ingredients : 6\n",
      "Category : dumplings, Average Ingredients : 9\n",
      "Category : sushi, Average Ingredients : 11\n",
      "Category : chicken_quesadilla, Average Ingredients : 9\n",
      "Category : breakfast_burrito, Average Ingredients : 9\n",
      "Category : gnocchi, Average Ingredients : 8\n",
      "Category : garlic_bread, Average Ingredients : 7\n",
      "Category : donuts, Average Ingredients : 12\n",
      "Category : waffles, Average Ingredients : 8\n",
      "Category : fried_rice, Average Ingredients : 10\n",
      "Category : baklava, Average Ingredients : 9\n",
      "Category : tuna_tartare, Average Ingredients : 10\n",
      "Category : panna_cotta, Average Ingredients : 5\n",
      "Category : pizza, Average Ingredients : 6\n",
      "Category : pho, Average Ingredients : 20\n",
      "Category : pulled_pork_sandwich, Average Ingredients : 10\n",
      "Category : edamame, Average Ingredients : 6\n",
      "Category : bibimbap, Average Ingredients : 15\n",
      "Category : bruschetta, Average Ingredients : 8\n",
      "Category : hot_dog, Average Ingredients : 5\n",
      "Category : spaghetti_carbonara, Average Ingredients : 7\n",
      "Category : chocolate_mousse, Average Ingredients : 5\n",
      "Category : filet_mignon, Average Ingredients : 7\n",
      "Category : caesar_salad, Average Ingredients : 12\n",
      "Category : lobster_roll_sandwich, Average Ingredients : 11\n",
      "Category : seaweed_salad, Average Ingredients : 10\n",
      "Category : french_toast, Average Ingredients : 8\n",
      "Category : caprese_salad, Average Ingredients : 7\n",
      "Category : chocolate_ice_cream, Average Ingredients : 5\n"
     ]
    }
   ],
   "source": [
    "category_ingredients_tally = defaultdict()\n",
    "for category in all_categories:\n",
    "    all_rows = cleaned_metadata[cleaned_metadata[\"Category\"] == category]\n",
    "    ingredients_tally = Counter()\n",
    "    average_ingredients = 0\n",
    "    for ingredients in all_rows[\"Ingredients\"]:\n",
    "        ingredients_list = ingredients.split(\",\")\n",
    "        average_ingredients += len(ingredients_list)\n",
    "        ingredients_tally.update(ingredients_list)\n",
    "    average_ingredients = average_ingredients // len(all_rows)\n",
    "    print(f\"Category : {category}, Average Ingredients : {average_ingredients}\")\n",
    "    category_ingredients_tally[category] = [average_ingredients, ingredients_tally]"
   ]
  },
  {
   "cell_type": "markdown",
   "id": "9d83b5bb-1605-4933-ba50-52ee91652f01",
   "metadata": {
    "tags": []
   },
   "source": [
    "## Build food101 dataset "
   ]
  },
  {
   "cell_type": "code",
   "execution_count": 37,
   "id": "f26c1230-ef4b-4323-8398-a48421b73fb1",
   "metadata": {},
   "outputs": [],
   "source": [
    "food101_images_dir = Path(\"./images\")\n",
    "categories_dir = [x for x in food101_images_dir.iterdir()]"
   ]
  },
  {
   "cell_type": "code",
   "execution_count": 104,
   "id": "8cff064e-cb06-4c44-9829-ebe1a8d69efd",
   "metadata": {},
   "outputs": [],
   "source": [
    "def move_image(category, path):\n",
    "    src_dir = Path(\"./images\")\n",
    "    parent_dest_dir = Path(\"../final-dataset/images\")\n",
    "    src_path = src_dir / category / path\n",
    "    dir_name = category\n",
    "    # check if dir containing file exists in destination\n",
    "    dest_dir = parent_dest_dir / dir_name\n",
    "    if not dest_dir.exists():\n",
    "        dest_dir.mkdir()\n",
    "    file_name = src_path.name\n",
    "    dest_path = dest_dir / file_name\n",
    "    shutil.copy(src_path, dest_path)\n",
    "    return (dir_name, file_name)\n",
    "\n",
    "\n",
    "def get_ingredients(\n",
    "    category, category_ingredients_tally=category_ingredients_tally, top_n_percent=0.8\n",
    "):\n",
    "    # random.seed(999) set the seed outside of this method\n",
    "    average_ingredients_per_recipe, ingredients_counter = category_ingredients_tally[\n",
    "        category\n",
    "    ]\n",
    "    ingredients_counter = ingredients_counter.most_common()\n",
    "    top_n = int(average_ingredients * top_n_percent)\n",
    "    random_n = average_ingredients_per_recipe - top_n\n",
    "    top_n_ingredients = ingredients_counter[:top_n]\n",
    "    random_n_ingredients = random.choices(ingredients_counter[top_n:], k=random_n)\n",
    "    top_n_ingredients.extend(random_n_ingredients)\n",
    "    ingredients_list = [a for a, b in top_n_ingredients]\n",
    "    return ingredients_list"
   ]
  },
  {
   "cell_type": "code",
   "execution_count": 83,
   "id": "6913b4e3-bacc-48b3-9ee7-ce1bcd4a91c3",
   "metadata": {},
   "outputs": [
    {
     "data": {
      "text/plain": [
       "[('apple', 53),\n",
       " ('cinnamon', 49),\n",
       " ('flour', 40),\n",
       " ('sugar', 38),\n",
       " ('butter', 30),\n",
       " ('salt', 24),\n",
       " ('pie', 23),\n",
       " ('nut', 22),\n",
       " ('lemon', 21)]"
      ]
     },
     "execution_count": 83,
     "metadata": {},
     "output_type": "execute_result"
    }
   ],
   "source": [
    "category_ingredients_tally[\"apple_pie\"][1].most_common()[:9]"
   ]
  },
  {
   "cell_type": "code",
   "execution_count": 112,
   "id": "000f3c67-8e06-420f-af6b-23c56d6c1729",
   "metadata": {},
   "outputs": [
    {
     "data": {
      "text/plain": [
       "['apple',\n",
       " 'cinnamon',\n",
       " 'flour',\n",
       " 'sugar',\n",
       " 'shortening',\n",
       " 'vanilla ice',\n",
       " 'gin',\n",
       " 'egg']"
      ]
     },
     "execution_count": 112,
     "metadata": {},
     "output_type": "execute_result"
    }
   ],
   "source": [
    "get_ingredients(\"apple_pie\")"
   ]
  },
  {
   "cell_type": "code",
   "execution_count": null,
   "id": "d4ffe113-bfb5-4ed6-bbb1-e0f8952df8d7",
   "metadata": {},
   "outputs": [],
   "source": []
  }
 ],
 "metadata": {
  "kernelspec": {
   "display_name": "PY38-TF28-GPU",
   "language": "python",
   "name": "py38-tf28-gpu"
  },
  "language_info": {
   "codemirror_mode": {
    "name": "ipython",
    "version": 3
   },
   "file_extension": ".py",
   "mimetype": "text/x-python",
   "name": "python",
   "nbconvert_exporter": "python",
   "pygments_lexer": "ipython3",
   "version": "3.8.13"
  }
 },
 "nbformat": 4,
 "nbformat_minor": 5
}
