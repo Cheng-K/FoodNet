{
 "cells": [
  {
   "cell_type": "code",
   "execution_count": 1,
   "id": "4fb81084-4bdf-47b6-ab55-e768c520c8ba",
   "metadata": {},
   "outputs": [],
   "source": [
    "import sys\n",
    "sys.path.insert(0,\"../../Ingredient Embeddings\")"
   ]
  },
  {
   "cell_type": "code",
   "execution_count": 2,
   "id": "add2464f-3f72-4b1a-94d6-fe7c6696c78d",
   "metadata": {},
   "outputs": [
    {
     "name": "stdout",
     "output_type": "stream",
     "text": [
      "Module ingredient_embeddings_similarity.ipynb is loaded\n"
     ]
    }
   ],
   "source": [
    "from ipynb.fs.full.ingredient_embeddings_similarity import exported as Ingredients"
   ]
  },
  {
   "cell_type": "code",
   "execution_count": 4,
   "id": "e1f4416f-1320-49d7-8e4a-1f3d36d6d1d3",
   "metadata": {},
   "outputs": [
    {
     "data": {
      "text/plain": [
       "(0.8468108, 152, 'chicken in whole pieces')"
      ]
     },
     "execution_count": 4,
     "metadata": {},
     "output_type": "execute_result"
    }
   ],
   "source": [
    "Ingredients.get_most_similar_from_fndds(Ingredients.embed([\"Chicken\"]))"
   ]
  },
  {
   "cell_type": "code",
   "execution_count": 5,
   "id": "cd53ef80-4a09-4864-9013-7cc8d28b2fbd",
   "metadata": {},
   "outputs": [
    {
     "data": {
      "text/plain": [
       "Main food description                   chicken, back\n",
       "WWEIA Category description    chicken in whole pieces\n",
       "Energy (kcal)                                    2.98\n",
       "Protein (g)                                    0.2573\n",
       "Carbohydrate (g)                                  0.0\n",
       "Total Fat (g)                                   0.208\n",
       "Name: 842, dtype: object"
      ]
     },
     "execution_count": 5,
     "metadata": {},
     "output_type": "execute_result"
    }
   ],
   "source": [
    "Ingredients.get_ingredient_nutrient_from_fndds(\"chicken in whole pieces\",152)"
   ]
  },
  {
   "cell_type": "code",
   "execution_count": 6,
   "id": "450a71c4-431e-48ae-9da9-fa5fa76d386f",
   "metadata": {},
   "outputs": [
    {
     "data": {
      "text/plain": [
       "(1.0, 27)"
      ]
     },
     "execution_count": 6,
     "metadata": {},
     "output_type": "execute_result"
    }
   ],
   "source": [
    "Ingredients.get_most_similar_from_nutrition5k(Ingredients.embed([\"Chicken\"]))"
   ]
  },
  {
   "cell_type": "code",
   "execution_count": 7,
   "id": "7252a041-275b-4c66-b42c-403cde055a3b",
   "metadata": {},
   "outputs": [
    {
     "data": {
      "text/plain": [
       "ingr          chicken\n",
       "id                 28\n",
       "cal/g            1.65\n",
       "fat(g)          0.036\n",
       "carb(g)           0.0\n",
       "protein(g)       0.31\n",
       "Name: 27, dtype: object"
      ]
     },
     "execution_count": 7,
     "metadata": {},
     "output_type": "execute_result"
    }
   ],
   "source": [
    "Ingredients.get_ingredient_nutrient_from_nutrition5k(27)"
   ]
  }
 ],
 "metadata": {
  "kernelspec": {
   "display_name": "TF2-GPU-PY310",
   "language": "python",
   "name": "tf2-gpu-py310"
  },
  "language_info": {
   "codemirror_mode": {
    "name": "ipython",
    "version": 3
   },
   "file_extension": ".py",
   "mimetype": "text/x-python",
   "name": "python",
   "nbconvert_exporter": "python",
   "pygments_lexer": "ipython3",
   "version": "3.10.4"
  }
 },
 "nbformat": 4,
 "nbformat_minor": 5
}
