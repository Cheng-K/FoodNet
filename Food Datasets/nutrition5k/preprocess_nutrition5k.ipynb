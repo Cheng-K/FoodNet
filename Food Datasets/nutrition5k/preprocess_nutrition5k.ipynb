{
 "cells": [
  {
   "cell_type": "code",
   "execution_count": 51,
   "id": "da0911c5-4879-4fe3-98cc-f60b0ddcfc66",
   "metadata": {},
   "outputs": [],
   "source": [
    "# TODO : Remove the faulty frames extracted from side angles videos\n",
    "# TODO : Move the cleaned metadata file to final-dataset"
   ]
  },
  {
   "cell_type": "code",
   "execution_count": 42,
   "id": "6a2281c1-bcc4-4d4d-9a46-4b97e4c781d8",
   "metadata": {},
   "outputs": [],
   "source": [
    "import os\n",
    "import shutil\n",
    "from pathlib import Path\n",
    "from pprint import pprint\n",
    "\n",
    "import pandas as pd"
   ]
  },
  {
   "cell_type": "markdown",
   "id": "d7712fec-2a43-411b-8bd4-7769781acf0e",
   "metadata": {},
   "source": [
    "## Preprocess metadata file"
   ]
  },
  {
   "cell_type": "code",
   "execution_count": 41,
   "id": "ee02e84e-67ef-477e-a99a-38585906de44",
   "metadata": {},
   "outputs": [],
   "source": [
    "# Two metadata file\n",
    "# Metadata file in this format :\n",
    "# dish_id, total_calories, total_mass, total_fat, total_carb, total_protein, num_ingrs, (ingr_1_id, ingr_1_name, ingr_1_grams, ingr_1_calories, ingr_1_fat, ingr_1_carb, ingr_1_protein, ...)\n",
    "\n",
    "dish_metadata1 = Path(\"./metadata/dish_metadata_cafe1.csv\")\n",
    "dish_metadata2 = Path(\"./metadata/dish_metadata_cafe2.csv\")"
   ]
  },
  {
   "cell_type": "code",
   "execution_count": 42,
   "id": "75de85fa-a4e6-4977-bf8a-3137dbd342e5",
   "metadata": {},
   "outputs": [],
   "source": [
    "# dish_metadata1 convert into structured csv file with (dish_id, calories / g, fat/g, carbs/g, protein/g, ingredients as string)\n",
    "rows = []\n",
    "with open(dish_metadata1) as file:\n",
    "    for line in file.readlines():\n",
    "        row = []\n",
    "        content = line.split(\",\")\n",
    "        row.append(content[0])\n",
    "        total_calorie = float(content[1])\n",
    "        total_mass = float(content[2])\n",
    "        total_fat = float(content[3])\n",
    "        total_carb = float(content[4])\n",
    "        total_protein = float(content[5])\n",
    "        row.extend(\n",
    "            [\n",
    "                total_calorie / total_mass,\n",
    "                total_carb / total_mass,\n",
    "                total_protein / total_mass,\n",
    "                total_fat / total_mass,\n",
    "            ]\n",
    "        )\n",
    "        ingredients_content = content[6:]\n",
    "        ingredients_list = []\n",
    "        for i in range(1, len(ingredients_content), 7):\n",
    "            ingredients_list.append(ingredients_content[i])\n",
    "        row.append(\",\".join(ingredients_list))\n",
    "        rows.append(row)\n",
    "cleaned_dish_metadata1 = pd.DataFrame(\n",
    "    rows,\n",
    "    columns=[\n",
    "        \"dish_id\",\n",
    "        \"Calories(kcal)\",\n",
    "        \"Carbohydrate(g)\",\n",
    "        \"Protein(g)\",\n",
    "        \"Fat(g)\",\n",
    "        \"Ingredients\",\n",
    "    ],\n",
    ")"
   ]
  },
  {
   "cell_type": "code",
   "execution_count": 43,
   "id": "0d3ddfc5-a7ef-4e05-8a1f-abe7644b542b",
   "metadata": {
    "tags": []
   },
   "outputs": [
    {
     "data": {
      "text/html": [
       "<div>\n",
       "<style scoped>\n",
       "    .dataframe tbody tr th:only-of-type {\n",
       "        vertical-align: middle;\n",
       "    }\n",
       "\n",
       "    .dataframe tbody tr th {\n",
       "        vertical-align: top;\n",
       "    }\n",
       "\n",
       "    .dataframe thead th {\n",
       "        text-align: right;\n",
       "    }\n",
       "</style>\n",
       "<table border=\"1\" class=\"dataframe\">\n",
       "  <thead>\n",
       "    <tr style=\"text-align: right;\">\n",
       "      <th></th>\n",
       "      <th>dish_id</th>\n",
       "      <th>Calories(kcal)</th>\n",
       "      <th>Carbohydrate(g)</th>\n",
       "      <th>Protein(g)</th>\n",
       "      <th>Fat(g)</th>\n",
       "      <th>Ingredients</th>\n",
       "    </tr>\n",
       "  </thead>\n",
       "  <tbody>\n",
       "    <tr>\n",
       "      <th>0</th>\n",
       "      <td>dish_1561662216</td>\n",
       "      <td>1.558520</td>\n",
       "      <td>0.146209</td>\n",
       "      <td>0.096549</td>\n",
       "      <td>0.064184</td>\n",
       "      <td>soy sauce,garlic,white rice,parsley,onions,bro...</td>\n",
       "    </tr>\n",
       "    <tr>\n",
       "      <th>1</th>\n",
       "      <td>dish_1562688426</td>\n",
       "      <td>1.563295</td>\n",
       "      <td>0.058977</td>\n",
       "      <td>0.117011</td>\n",
       "      <td>0.093818</td>\n",
       "      <td>roasted potatoes,chicken apple sausage</td>\n",
       "    </tr>\n",
       "    <tr>\n",
       "      <th>2</th>\n",
       "      <td>dish_1561662054</td>\n",
       "      <td>1.436434</td>\n",
       "      <td>0.090245</td>\n",
       "      <td>0.088735</td>\n",
       "      <td>0.081638</td>\n",
       "      <td>pepper,white rice,mixed greens,garlic,soy sauc...</td>\n",
       "    </tr>\n",
       "    <tr>\n",
       "      <th>3</th>\n",
       "      <td>dish_1562008979</td>\n",
       "      <td>1.320471</td>\n",
       "      <td>0.035081</td>\n",
       "      <td>0.121881</td>\n",
       "      <td>0.076637</td>\n",
       "      <td>jalapenos,lemon juice,pork,wheat berry,cabbage...</td>\n",
       "    </tr>\n",
       "    <tr>\n",
       "      <th>4</th>\n",
       "      <td>dish_1560455030</td>\n",
       "      <td>0.199903</td>\n",
       "      <td>0.044903</td>\n",
       "      <td>0.009282</td>\n",
       "      <td>0.001437</td>\n",
       "      <td>cherry tomatoes,cucumbers,baby carrots</td>\n",
       "    </tr>\n",
       "  </tbody>\n",
       "</table>\n",
       "</div>"
      ],
      "text/plain": [
       "           dish_id  Calories(kcal)  Carbohydrate(g)  Protein(g)    Fat(g)  \\\n",
       "0  dish_1561662216        1.558520         0.146209    0.096549  0.064184   \n",
       "1  dish_1562688426        1.563295         0.058977    0.117011  0.093818   \n",
       "2  dish_1561662054        1.436434         0.090245    0.088735  0.081638   \n",
       "3  dish_1562008979        1.320471         0.035081    0.121881  0.076637   \n",
       "4  dish_1560455030        0.199903         0.044903    0.009282  0.001437   \n",
       "\n",
       "                                         Ingredients  \n",
       "0  soy sauce,garlic,white rice,parsley,onions,bro...  \n",
       "1             roasted potatoes,chicken apple sausage  \n",
       "2  pepper,white rice,mixed greens,garlic,soy sauc...  \n",
       "3  jalapenos,lemon juice,pork,wheat berry,cabbage...  \n",
       "4             cherry tomatoes,cucumbers,baby carrots  "
      ]
     },
     "execution_count": 43,
     "metadata": {},
     "output_type": "execute_result"
    }
   ],
   "source": [
    "cleaned_dish_metadata1.head()"
   ]
  },
  {
   "cell_type": "markdown",
   "id": "4ccec513-0949-4538-b51b-bf1af881cecc",
   "metadata": {},
   "source": [
    "**Note : An ingredient named \"deprecated\" is present after several checked it might be heavily linked to foods**"
   ]
  },
  {
   "cell_type": "code",
   "execution_count": 44,
   "id": "7ca6d42d-381c-477f-8916-f1b9c8b6566d",
   "metadata": {},
   "outputs": [],
   "source": [
    "# dish_metadata2 convert into structured csv file with (dish_id, calories / g, fat/g, carbs/g, protein/g, ingredients as string)\n",
    "# dish_metadata2 did not provide dish level nutrition info, manual add up is required\n",
    "\n",
    "rows = []\n",
    "with open(dish_metadata2) as file:\n",
    "    for line in file.readlines():\n",
    "        row = []\n",
    "        content = line.split(\",\")\n",
    "        row.append(content[0])\n",
    "        total_mass = float(content[2])\n",
    "        ingredients_content = content[6:]\n",
    "        ingredients_list = []\n",
    "        total_calorie_from_ingr = 0\n",
    "        total_carbs_from_ingr = 0\n",
    "        total_protein_from_ingr = 0\n",
    "        total_fat_from_ingr = 0\n",
    "        for i in range(0, len(ingredients_content), 7):\n",
    "            ingredients_list.append(ingredients_content[i + 1])\n",
    "            total_calorie_from_ingr += float(ingredients_content[i + 3])\n",
    "            total_fat_from_ingr += float(ingredients_content[i + 4])\n",
    "            total_carbs_from_ingr += float(ingredients_content[i + 5])\n",
    "            total_protein_from_ingr += float(ingredients_content[i + 6])\n",
    "        total_calorie = total_calorie_from_ingr\n",
    "        total_carb = total_carbs_from_ingr\n",
    "        total_protein = total_protein_from_ingr\n",
    "        total_fat = total_fat_from_ingr\n",
    "        row.extend(\n",
    "            [\n",
    "                total_calorie / total_mass,\n",
    "                total_carb / total_mass,\n",
    "                total_protein / total_mass,\n",
    "                total_fat / total_mass,\n",
    "            ]\n",
    "        )\n",
    "\n",
    "        row.append(\",\".join(ingredients_list))\n",
    "        rows.append(row)\n",
    "cleaned_dish_metadata2 = pd.DataFrame(\n",
    "    rows,\n",
    "    columns=[\n",
    "        \"dish_id\",\n",
    "        \"Calories(kcal)\",\n",
    "        \"Carbohydrate(g)\",\n",
    "        \"Protein(g)\",\n",
    "        \"Fat(g)\",\n",
    "        \"Ingredients\",\n",
    "    ],\n",
    ")"
   ]
  },
  {
   "cell_type": "code",
   "execution_count": 45,
   "id": "6da66a10-d53c-42a9-a0db-28ee52f54721",
   "metadata": {},
   "outputs": [
    {
     "data": {
      "text/html": [
       "<div>\n",
       "<style scoped>\n",
       "    .dataframe tbody tr th:only-of-type {\n",
       "        vertical-align: middle;\n",
       "    }\n",
       "\n",
       "    .dataframe tbody tr th {\n",
       "        vertical-align: top;\n",
       "    }\n",
       "\n",
       "    .dataframe thead th {\n",
       "        text-align: right;\n",
       "    }\n",
       "</style>\n",
       "<table border=\"1\" class=\"dataframe\">\n",
       "  <thead>\n",
       "    <tr style=\"text-align: right;\">\n",
       "      <th></th>\n",
       "      <th>dish_id</th>\n",
       "      <th>Calories(kcal)</th>\n",
       "      <th>Carbohydrate(g)</th>\n",
       "      <th>Protein(g)</th>\n",
       "      <th>Fat(g)</th>\n",
       "      <th>Ingredients</th>\n",
       "    </tr>\n",
       "  </thead>\n",
       "  <tbody>\n",
       "    <tr>\n",
       "      <th>0</th>\n",
       "      <td>dish_1572974428</td>\n",
       "      <td>1.954041</td>\n",
       "      <td>0.161582</td>\n",
       "      <td>0.043231</td>\n",
       "      <td>0.138704</td>\n",
       "      <td>tomatoes,avocado,multigrain bread,olive oil,ed...</td>\n",
       "    </tr>\n",
       "    <tr>\n",
       "      <th>1</th>\n",
       "      <td>dish_1572464692</td>\n",
       "      <td>1.660000</td>\n",
       "      <td>0.140000</td>\n",
       "      <td>0.079000</td>\n",
       "      <td>0.096000</td>\n",
       "      <td>hummus</td>\n",
       "    </tr>\n",
       "    <tr>\n",
       "      <th>2</th>\n",
       "      <td>dish_1571931594</td>\n",
       "      <td>1.410000</td>\n",
       "      <td>0.180000</td>\n",
       "      <td>0.021000</td>\n",
       "      <td>0.068000</td>\n",
       "      <td>roasted potatoes</td>\n",
       "    </tr>\n",
       "    <tr>\n",
       "      <th>3</th>\n",
       "      <td>dish_1575478635</td>\n",
       "      <td>1.480000</td>\n",
       "      <td>0.016000</td>\n",
       "      <td>0.100000</td>\n",
       "      <td>0.110000</td>\n",
       "      <td>scrambled eggs</td>\n",
       "    </tr>\n",
       "    <tr>\n",
       "      <th>4</th>\n",
       "      <td>dish_1572887017</td>\n",
       "      <td>0.917682</td>\n",
       "      <td>0.064411</td>\n",
       "      <td>0.076443</td>\n",
       "      <td>0.036212</td>\n",
       "      <td>hash browns,egg whites,salsa</td>\n",
       "    </tr>\n",
       "  </tbody>\n",
       "</table>\n",
       "</div>"
      ],
      "text/plain": [
       "           dish_id  Calories(kcal)  Carbohydrate(g)  Protein(g)    Fat(g)  \\\n",
       "0  dish_1572974428        1.954041         0.161582    0.043231  0.138704   \n",
       "1  dish_1572464692        1.660000         0.140000    0.079000  0.096000   \n",
       "2  dish_1571931594        1.410000         0.180000    0.021000  0.068000   \n",
       "3  dish_1575478635        1.480000         0.016000    0.100000  0.110000   \n",
       "4  dish_1572887017        0.917682         0.064411    0.076443  0.036212   \n",
       "\n",
       "                                         Ingredients  \n",
       "0  tomatoes,avocado,multigrain bread,olive oil,ed...  \n",
       "1                                             hummus  \n",
       "2                                   roasted potatoes  \n",
       "3                                     scrambled eggs  \n",
       "4                       hash browns,egg whites,salsa  "
      ]
     },
     "execution_count": 45,
     "metadata": {},
     "output_type": "execute_result"
    }
   ],
   "source": [
    "cleaned_dish_metadata2.head()"
   ]
  },
  {
   "cell_type": "code",
   "execution_count": 46,
   "id": "1a5b2ada-3591-4986-899f-5221c542df29",
   "metadata": {},
   "outputs": [
    {
     "data": {
      "text/plain": [
       "4768"
      ]
     },
     "execution_count": 46,
     "metadata": {},
     "output_type": "execute_result"
    }
   ],
   "source": [
    "len(cleaned_dish_metadata1)"
   ]
  },
  {
   "cell_type": "code",
   "execution_count": 47,
   "id": "9f7e2ce5-68a7-451d-ad68-c0579ddada5e",
   "metadata": {},
   "outputs": [],
   "source": [
    "# Concat both dataset together\n",
    "cleaned_metadata = pd.concat([cleaned_dish_metadata1, cleaned_dish_metadata2])"
   ]
  },
  {
   "cell_type": "code",
   "execution_count": 48,
   "id": "217ae137-c5be-4ca0-ad5d-dec18f6a2910",
   "metadata": {},
   "outputs": [],
   "source": [
    "cleaned_metadata = cleaned_metadata.reset_index(drop=True)"
   ]
  },
  {
   "cell_type": "code",
   "execution_count": 49,
   "id": "52e11843-17d1-49bb-86d5-4ac5222acf33",
   "metadata": {},
   "outputs": [
    {
     "data": {
      "text/html": [
       "<div>\n",
       "<style scoped>\n",
       "    .dataframe tbody tr th:only-of-type {\n",
       "        vertical-align: middle;\n",
       "    }\n",
       "\n",
       "    .dataframe tbody tr th {\n",
       "        vertical-align: top;\n",
       "    }\n",
       "\n",
       "    .dataframe thead th {\n",
       "        text-align: right;\n",
       "    }\n",
       "</style>\n",
       "<table border=\"1\" class=\"dataframe\">\n",
       "  <thead>\n",
       "    <tr style=\"text-align: right;\">\n",
       "      <th></th>\n",
       "      <th>dish_id</th>\n",
       "      <th>Calories(kcal)</th>\n",
       "      <th>Carbohydrate(g)</th>\n",
       "      <th>Protein(g)</th>\n",
       "      <th>Fat(g)</th>\n",
       "      <th>Ingredients</th>\n",
       "    </tr>\n",
       "  </thead>\n",
       "  <tbody>\n",
       "    <tr>\n",
       "      <th>0</th>\n",
       "      <td>dish_1561662216</td>\n",
       "      <td>1.558520</td>\n",
       "      <td>0.146209</td>\n",
       "      <td>0.096549</td>\n",
       "      <td>0.064184</td>\n",
       "      <td>soy sauce,garlic,white rice,parsley,onions,bro...</td>\n",
       "    </tr>\n",
       "    <tr>\n",
       "      <th>1</th>\n",
       "      <td>dish_1562688426</td>\n",
       "      <td>1.563295</td>\n",
       "      <td>0.058977</td>\n",
       "      <td>0.117011</td>\n",
       "      <td>0.093818</td>\n",
       "      <td>roasted potatoes,chicken apple sausage</td>\n",
       "    </tr>\n",
       "    <tr>\n",
       "      <th>2</th>\n",
       "      <td>dish_1561662054</td>\n",
       "      <td>1.436434</td>\n",
       "      <td>0.090245</td>\n",
       "      <td>0.088735</td>\n",
       "      <td>0.081638</td>\n",
       "      <td>pepper,white rice,mixed greens,garlic,soy sauc...</td>\n",
       "    </tr>\n",
       "    <tr>\n",
       "      <th>3</th>\n",
       "      <td>dish_1562008979</td>\n",
       "      <td>1.320471</td>\n",
       "      <td>0.035081</td>\n",
       "      <td>0.121881</td>\n",
       "      <td>0.076637</td>\n",
       "      <td>jalapenos,lemon juice,pork,wheat berry,cabbage...</td>\n",
       "    </tr>\n",
       "    <tr>\n",
       "      <th>4</th>\n",
       "      <td>dish_1560455030</td>\n",
       "      <td>0.199903</td>\n",
       "      <td>0.044903</td>\n",
       "      <td>0.009282</td>\n",
       "      <td>0.001437</td>\n",
       "      <td>cherry tomatoes,cucumbers,baby carrots</td>\n",
       "    </tr>\n",
       "    <tr>\n",
       "      <th>...</th>\n",
       "      <td>...</td>\n",
       "      <td>...</td>\n",
       "      <td>...</td>\n",
       "      <td>...</td>\n",
       "      <td>...</td>\n",
       "      <td>...</td>\n",
       "    </tr>\n",
       "    <tr>\n",
       "      <th>5001</th>\n",
       "      <td>dish_1571934465</td>\n",
       "      <td>0.330000</td>\n",
       "      <td>0.080000</td>\n",
       "      <td>0.007000</td>\n",
       "      <td>0.003000</td>\n",
       "      <td>strawberries</td>\n",
       "    </tr>\n",
       "    <tr>\n",
       "      <th>5002</th>\n",
       "      <td>dish_1573073666</td>\n",
       "      <td>0.549019</td>\n",
       "      <td>0.077154</td>\n",
       "      <td>0.024811</td>\n",
       "      <td>0.022488</td>\n",
       "      <td>broccoli,olive oil,bread crumbs,salt,jalapenos</td>\n",
       "    </tr>\n",
       "    <tr>\n",
       "      <th>5003</th>\n",
       "      <td>dish_1575924356</td>\n",
       "      <td>1.316000</td>\n",
       "      <td>0.248000</td>\n",
       "      <td>0.051000</td>\n",
       "      <td>0.011000</td>\n",
       "      <td>pasta</td>\n",
       "    </tr>\n",
       "    <tr>\n",
       "      <th>5004</th>\n",
       "      <td>dish_1574359199</td>\n",
       "      <td>1.506565</td>\n",
       "      <td>0.118590</td>\n",
       "      <td>0.059204</td>\n",
       "      <td>0.086729</td>\n",
       "      <td>scrambled eggs,roasted potatoes,crepes</td>\n",
       "    </tr>\n",
       "    <tr>\n",
       "      <th>5005</th>\n",
       "      <td>dish_1576171157</td>\n",
       "      <td>1.002627</td>\n",
       "      <td>0.065226</td>\n",
       "      <td>0.076498</td>\n",
       "      <td>0.053859</td>\n",
       "      <td>brussels sprouts,almonds,olive oil,chili,salt,...</td>\n",
       "    </tr>\n",
       "  </tbody>\n",
       "</table>\n",
       "<p>5006 rows × 6 columns</p>\n",
       "</div>"
      ],
      "text/plain": [
       "              dish_id  Calories(kcal)  Carbohydrate(g)  Protein(g)    Fat(g)  \\\n",
       "0     dish_1561662216        1.558520         0.146209    0.096549  0.064184   \n",
       "1     dish_1562688426        1.563295         0.058977    0.117011  0.093818   \n",
       "2     dish_1561662054        1.436434         0.090245    0.088735  0.081638   \n",
       "3     dish_1562008979        1.320471         0.035081    0.121881  0.076637   \n",
       "4     dish_1560455030        0.199903         0.044903    0.009282  0.001437   \n",
       "...               ...             ...              ...         ...       ...   \n",
       "5001  dish_1571934465        0.330000         0.080000    0.007000  0.003000   \n",
       "5002  dish_1573073666        0.549019         0.077154    0.024811  0.022488   \n",
       "5003  dish_1575924356        1.316000         0.248000    0.051000  0.011000   \n",
       "5004  dish_1574359199        1.506565         0.118590    0.059204  0.086729   \n",
       "5005  dish_1576171157        1.002627         0.065226    0.076498  0.053859   \n",
       "\n",
       "                                            Ingredients  \n",
       "0     soy sauce,garlic,white rice,parsley,onions,bro...  \n",
       "1                roasted potatoes,chicken apple sausage  \n",
       "2     pepper,white rice,mixed greens,garlic,soy sauc...  \n",
       "3     jalapenos,lemon juice,pork,wheat berry,cabbage...  \n",
       "4                cherry tomatoes,cucumbers,baby carrots  \n",
       "...                                                 ...  \n",
       "5001                                       strawberries  \n",
       "5002     broccoli,olive oil,bread crumbs,salt,jalapenos  \n",
       "5003                                              pasta  \n",
       "5004             scrambled eggs,roasted potatoes,crepes  \n",
       "5005  brussels sprouts,almonds,olive oil,chili,salt,...  \n",
       "\n",
       "[5006 rows x 6 columns]"
      ]
     },
     "execution_count": 49,
     "metadata": {},
     "output_type": "execute_result"
    }
   ],
   "source": [
    "cleaned_metadata"
   ]
  },
  {
   "cell_type": "code",
   "execution_count": 58,
   "id": "3129c829-55f2-4618-9595-a08ec0008a13",
   "metadata": {},
   "outputs": [],
   "source": [
    "# Write the cleaned metadata file\n",
    "destination_file = Path(\"./metadata/cleaned_metadata.csv\")\n",
    "cleaned_metadata.to_csv(destination_file, sep=\"\\t\", index=False, float_format=\"%.4f\")"
   ]
  },
  {
   "cell_type": "markdown",
   "id": "e3559fcd-74c1-4822-9960-1dd42fcd865f",
   "metadata": {},
   "source": [
    "## Preprocess video to images"
   ]
  },
  {
   "cell_type": "code",
   "execution_count": 8,
   "id": "1f8d2078-a436-48a7-ac56-c8e5c74433e6",
   "metadata": {},
   "outputs": [],
   "source": [
    "cleaned_metadata = pd.read_csv(\"./metadata/cleaned_metadata.csv\", sep=\"\\t\")"
   ]
  },
  {
   "cell_type": "code",
   "execution_count": 10,
   "id": "da35fe35-1530-4e6c-be67-50a42becee5b",
   "metadata": {},
   "outputs": [],
   "source": [
    "source_dir = Path(\"./imagery/side_angles\")\n",
    "source_dir2 = Path(\"./imagery/realsense_overhead\")\n",
    "all_dir = [x.name for x in source_dir.iterdir()]\n",
    "all_dir2 = [x.stem for x in source_dir2.iterdir()]"
   ]
  },
  {
   "cell_type": "code",
   "execution_count": 11,
   "id": "a41016a7-04ae-498c-b157-3f4f9b574d27",
   "metadata": {},
   "outputs": [],
   "source": [
    "all_dir = set(all_dir)\n",
    "all_dir.update(all_dir2)"
   ]
  },
  {
   "cell_type": "code",
   "execution_count": 13,
   "id": "9f1a737b-8f16-442f-82fc-05abd2c90bd0",
   "metadata": {},
   "outputs": [],
   "source": [
    "# remove rows without image data\n",
    "all_dish_id = cleaned_metadata[\"dish_id\"]\n",
    "for dish in all_dish_id:\n",
    "    if dish not in all_dir:\n",
    "        index_to_drop = cleaned_metadata[cleaned_metadata[\"dish_id\"] == dish].index\n",
    "        cleaned_metadata = cleaned_metadata.drop(index_to_drop)"
   ]
  },
  {
   "cell_type": "code",
   "execution_count": 14,
   "id": "422b6253-595f-4c0c-9736-e88bb84f2968",
   "metadata": {},
   "outputs": [],
   "source": [
    "assert len(all_dir) == len(\n",
    "    cleaned_metadata\n",
    "), \"The total entries of metadata does not matched with the total dish_id in image directory\""
   ]
  },
  {
   "cell_type": "code",
   "execution_count": 58,
   "id": "101cb79f-bc2e-43db-8f61-077c8983aff1",
   "metadata": {},
   "outputs": [],
   "source": [
    "# Update the metadata file\n",
    "destination_file = Path(\"./metadata/cleaned_metadata.csv\")\n",
    "cleaned_metadata.to_csv(destination_file, sep=\"\\t\", index=False, float_format=\"%.4f\")"
   ]
  },
  {
   "cell_type": "markdown",
   "id": "64cbc7a8-ab35-458b-824f-43aab36bc472",
   "metadata": {},
   "source": [
    "### Extract frames from side_angles directory"
   ]
  },
  {
   "cell_type": "code",
   "execution_count": 28,
   "id": "805b1283-b67c-44a3-a39e-6dfece4429c9",
   "metadata": {},
   "outputs": [],
   "source": [
    "destination_dir = Path(\"../final-dataset/images/generic\")\n",
    "source_dir = Path(\"./imagery/side_angles\")\n",
    "destination_dir.mkdir()"
   ]
  },
  {
   "cell_type": "code",
   "execution_count": 39,
   "id": "46ac0910-9997-4991-bd5c-13ee424ee89e",
   "metadata": {},
   "outputs": [],
   "source": [
    "for directory in source_dir.iterdir():\n",
    "    output_dir = destination_dir / directory.name\n",
    "    output_dir.mkdir()\n",
    "    output_dir = output_dir.resolve().as_posix()\n",
    "    for video_file in directory.iterdir():\n",
    "        input_file = video_file.resolve().as_posix()\n",
    "        os.system(\n",
    "            'ffmpeg -i \"{input_file}\" -vf \"select=not(mod(n\\,5))\" -fps_mode vfr \"{output_dir}/{camera_name}_frame_%03d.jpeg\"'.format(\n",
    "                input_file=input_file,\n",
    "                output_dir=output_dir,\n",
    "                camera_name=video_file.stem,\n",
    "            )\n",
    "        )"
   ]
  },
  {
   "cell_type": "code",
   "execution_count": null,
   "id": "e6da16cc-2f9c-42bb-b4d3-448758aacaf5",
   "metadata": {},
   "outputs": [],
   "source": [
    "# 10.39pm \"D:\\School Materials\\FoodNet\\Food Datasets\\final-dataset\\images\\generic\\dish_1575393132\" camera B frames have issues\n",
    "# \"D:\\School Materials\\FoodNet\\Food Datasets\\final-dataset\\images\\generic\\dish_1575407477\" camera B and camera C frames have issues"
   ]
  },
  {
   "cell_type": "markdown",
   "id": "24df1efb-2327-496a-9807-8ccbea4e6564",
   "metadata": {},
   "source": [
    "### Preprocess single top images from realsense overhead directory"
   ]
  },
  {
   "cell_type": "code",
   "execution_count": 40,
   "id": "fe58ecff-c125-4c4c-8e07-86fc9af684e1",
   "metadata": {},
   "outputs": [],
   "source": [
    "destination_dir = Path(\"../final-dataset/images/generic\")\n",
    "source_dir = Path(\"./imagery/realsense_overhead\")"
   ]
  },
  {
   "cell_type": "code",
   "execution_count": 50,
   "id": "f9646972-1185-4cf6-8360-c4d5b6cbd3d0",
   "metadata": {},
   "outputs": [],
   "source": [
    "for file in source_dir.iterdir():\n",
    "    output_dir = destination_dir / file.stem\n",
    "    output_dir.mkdir()\n",
    "    destination_path = output_dir / file.name\n",
    "    shutil.copy(file, destination_path)"
   ]
  },
  {
   "cell_type": "code",
   "execution_count": null,
   "id": "1a96c955-a878-43a3-af32-f28f4977f4dd",
   "metadata": {},
   "outputs": [],
   "source": []
  }
 ],
 "metadata": {
  "kernelspec": {
   "display_name": "TF2-GPU-PY310",
   "language": "python",
   "name": "tf2-gpu-py310"
  },
  "language_info": {
   "codemirror_mode": {
    "name": "ipython",
    "version": 3
   },
   "file_extension": ".py",
   "mimetype": "text/x-python",
   "name": "python",
   "nbconvert_exporter": "python",
   "pygments_lexer": "ipython3",
   "version": "3.10.4"
  }
 },
 "nbformat": 4,
 "nbformat_minor": 5
}
